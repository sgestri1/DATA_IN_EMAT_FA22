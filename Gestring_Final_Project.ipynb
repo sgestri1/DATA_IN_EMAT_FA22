{
 "cells": [
  {
   "cell_type": "markdown",
   "id": "0b880cdd",
   "metadata": {},
   "source": [
    "# Final Project: Comparing Audio Features of Current Top Hits and Baroque Classical Music\n",
    "\n",
    "## Serena Gestring\n",
    "\n",
    "### December 16, 2022"
   ]
  },
  {
   "cell_type": "markdown",
   "id": "38d1ae5f",
   "metadata": {},
   "source": [
    "Images Credit: Wikimedia Commons\n",
    "\n",
    "[Organ](https://commons.wikimedia.org/wiki/File:Organ,_from_the_Musical_Instruments_series_(N82)_for_Duke_brand_cigarettes_MET_DPB883215.jpg)\n",
    "\n",
    "[Xylophone](https://commons.wikimedia.org/wiki/File:Xylophone,_from_the_Musical_Instruments_series_(N82)_for_Duke_brand_cigarettes_MET_DPB883230.jpg)\n",
    "\n",
    "[Cymbals](https://commons.wikimedia.org/wiki/File:Cymbals,_from_the_Musical_Instruments_series_(N82)_for_Duke_brand_cigarettes_MET_DPB883196.jpg)\n",
    "\n",
    "[Tuba](https://commons.wikimedia.org/wiki/File:Tuba,_from_the_Musical_Instruments_series_(N82)_for_Duke_brand_cigarettes_MET_DPB883226.jpg)\n",
    "\n",
    "[Triangle](https://commons.wikimedia.org/wiki/File:Triangle,_from_the_Musical_Instruments_series_(N82)_for_Duke_brand_cigarettes_MET_DPB883224.jpg)\n",
    "\n",
    "[Saxophone](https://commons.wikimedia.org/wiki/File:Saxophone,_from_the_Musical_Instruments_series_(N82)_for_Duke_brand_cigarettes_MET_DPB883219.jpg)\n",
    "\n",
    "[Trombone](https://commons.wikimedia.org/wiki/File:Trombone,_from_the_Musical_Instruments_series_(N82)_for_Duke_brand_cigarettes_MET_DPB883225.jpg)"
   ]
  },
  {
   "cell_type": "markdown",
   "id": "7b5bdffc",
   "metadata": {},
   "source": [
    "![](Organ2.jpg)"
   ]
  },
  {
   "cell_type": "markdown",
   "id": "d9e5c7ef",
   "metadata": {},
   "source": [
    "Material culture is one of the characteristics of humanity that separates us from the rest of the animal kingdom, and this includes the creation of music. It is thought we have been making music for thousands of years, as evidenced by this [~35,000 year old flute](https://humanorigins.si.edu/evidence/behavior/art-music/musical-instruments/ancient-flute). I believe that what we create tells us a lot about ourselves and our species, and so for this project I wanted to compare two different periods of music, Classical and Pop, and see how different or similar they are. \n",
    "\n",
    "Classical music actually spans a wide range of music, so I chose to specifically focus on Baroque Classical, which took place between 1600 and 1750, because while researching the characteristics of the different Classical periods, [those of the Baroque](https://www.musicianwave.com/characteristics-of-baroque-music/) were the most intriguing to me (contrast, dynamics, ornamentation). \n",
    "\n",
    "Classical music and pop music have [been compared before](https://www.cmuse.org/classical-vs-popular-music/), though it seems like most of the time someone is arguing one is \"better\" than the other. This is not the goal of this project. I specifically want to compare the Spotify audio features of each music period. As one of the world's largest music streaming services, I thought the data Spotify collects on each track available in their catalog must be valuable (or else they would not bother to collect that data), and so it is this data I would like to examine and see what I find. Essentially, my driving question is this: \"How do the Spotify audio features of today's popular music and Baroque Classical music compare, and can this generate some ideas as to how/if humanity's musical tastes/abilities have changed over time?\""
   ]
  },
  {
   "cell_type": "markdown",
   "id": "d223f4ca",
   "metadata": {},
   "source": [
    "![](Xylophone2.jpg)"
   ]
  },
  {
   "cell_type": "markdown",
   "id": "622e41b3",
   "metadata": {},
   "source": [
    "To answer this question, I found two playlists on Spotify: [Today's Top Hits](https://open.spotify.com/playlist/37i9dQZF1DXcBWIGoYBM5M) for current popular music and [Baroque Classics](https://open.spotify.com/playlist/4DvteColbVCrs7iIgc4r6x) for popular music from the Baroque period. While a large sample size is best for performing a better, more thorough, and more complete analysis, due to the timeline of this report I decided to only look at 50 songs from each time period. The Top Hits playlist conveniently has 50 songs. The Baroque Classics playlist has 145 songs. I used a random number generator to give me 50 random track numbers so I could validly collect a sample size from that playlist. "
   ]
  },
  {
   "cell_type": "markdown",
   "id": "ba64cbf4",
   "metadata": {},
   "source": [
    "First I imported all of the packages I would need to perform this analysis in Jupyter Notebook."
   ]
  },
  {
   "cell_type": "code",
   "execution_count": 1,
   "id": "a3873c54",
   "metadata": {},
   "outputs": [],
   "source": [
    "import pandas as pd\n",
    "import json\n",
    "import requests\n",
    "import base64\n",
    "from matplotlib import pyplot as plt\n",
    "from scipy import stats\n",
    "import numpy as np"
   ]
  },
  {
   "cell_type": "markdown",
   "id": "a6efe04d",
   "metadata": {},
   "source": [
    "In order to retrieve the data from my chosen playlists, I needed to access the Spotify API. In order to do that, I needed to provide my developer keys to prove I am authorized to access that information. I uploaded my keys to the Jupyter Notebook anonymously (meaning not visually so it will not be available on the internet).  "
   ]
  },
  {
   "cell_type": "code",
   "execution_count": 2,
   "id": "bfa578fe",
   "metadata": {},
   "outputs": [],
   "source": [
    "keys = pd.read_csv(\"Spotify_Keys_10-18-22.txt\", header = 0, sep = \",\")\n",
    "appid = keys['Client_ID'][0]\n",
    "appsecret = keys['Client_Secret'][0]"
   ]
  },
  {
   "cell_type": "code",
   "execution_count": 3,
   "id": "f9b4a75b",
   "metadata": {},
   "outputs": [],
   "source": [
    "client_cred = base64.b64encode(str(appid + \":\" + appsecret).encode('ascii'))\n",
    "header = {'Authorization': 'Basic {}'.format(client_cred.decode('ascii'))}\n",
    "payload = {'grant_type' : 'client_credentials'}\n",
    "access_token_url = \"https://accounts.spotify.com/api/token\""
   ]
  },
  {
   "cell_type": "code",
   "execution_count": 4,
   "id": "26ab6044",
   "metadata": {},
   "outputs": [],
   "source": [
    "response = requests.post(access_token_url, headers = header, data = payload)\n",
    "session_token = response.json()['access_token']\n",
    "session_header = {'Authorization': 'Bearer {}'.format(response.json()['access_token'])}"
   ]
  },
  {
   "cell_type": "markdown",
   "id": "9bc8cf95",
   "metadata": {},
   "source": [
    "Once I had gained access to the Spotify API, I used the Get Playlist Items Endpoint to retrieve the track information for the Top Hits playlist. I printed the status code of the request so I knew that it was successful. "
   ]
  },
  {
   "cell_type": "code",
   "execution_count": 5,
   "id": "44155285",
   "metadata": {},
   "outputs": [
    {
     "name": "stdout",
     "output_type": "stream",
     "text": [
      "200\n"
     ]
    }
   ],
   "source": [
    "top_hits_id = '37i9dQZF1DXcBWIGoYBM5M'\n",
    "playlist_endpoint = \"https://api.spotify.com/v1/playlists/{}/tracks\".format(top_hits_id)\n",
    "top_hits_tracks = requests.get(playlist_endpoint, headers = session_header)\n",
    "print(top_hits_tracks.status_code)"
   ]
  },
  {
   "cell_type": "markdown",
   "id": "395ec7f8",
   "metadata": {},
   "source": [
    "In order to get the audio features for each track, I needed the track ids. I loaded the data I retrieved into a pandas data frame, then created another data frame for just the 'track' key in order to more easily look at the track ids.  "
   ]
  },
  {
   "cell_type": "code",
   "execution_count": 6,
   "id": "acc5696d",
   "metadata": {},
   "outputs": [],
   "source": [
    "top_hits_dict = json.loads(top_hits_tracks.text)\n",
    "top_hits_df = pd.DataFrame(top_hits_dict['items'])\n",
    "tracks_df = pd.DataFrame(list(top_hits_df['track']))"
   ]
  },
  {
   "cell_type": "markdown",
   "id": "75b0a0ec",
   "metadata": {},
   "source": [
    "I tried alternative ways to combine the track ids into a string, but the way I had done it in a previous assignment was not working, so I went with this method. While listing out all 50 ids is not the most efficient way of doing this, it is still valid code that does what I need it to do. \n",
    "\n",
    "Once all of the ids were joined as a string, that string was passed to the Track Features Endpoint in order to retrieve the audio features for the tracks. I printed the status code to make sure the request was successful.  "
   ]
  },
  {
   "cell_type": "code",
   "execution_count": 7,
   "id": "d2ae4ac6",
   "metadata": {},
   "outputs": [
    {
     "name": "stdout",
     "output_type": "stream",
     "text": [
      "200\n"
     ]
    }
   ],
   "source": [
    "track_ids1 = ['0V3wPSX9ygBnCm8psDIegu', '3nqQXoyQOWXiESFLlDF1hG', '1xzi1Jcr7mEi9K2RfzLOqS', '4LRPiXqCikLlN15c3yImP7', '0WtM2NBVQNNJLh6scP13H8', '1bDbXMyjaUIooNwFE9wn0N', '73vIOb4Q7YN6HeJTbscRx5', '4uUG5RXrOk84mYEfFvj3cK', '35ovElsgyAtQwYPYnZJECg', '0QHEIqNKsMoOY5urbzN48u']\n",
    "track_ids2 = ['4h9wh7iOZ0GGn8QVp4RAOB', '5ww2BF9slyYgNOk37BlC4u', '5IgjP7X4th6nMNDh4akUHb', '0O6u0VJ46W86TxN9wgyqDj', '5odlY52u43F5BjByhxg7wg', '5jQI2r1RdgtuT8S3iG8zFC', '1qEmFfgcLObUfQm0j1W2CK', '34ZAzO78a5DAVNrYIGWcPm', '38T0tPVZHcPZyhtOcCP7pF', '26hOm7dTtBi0TdpDGl141t']\n",
    "track_ids3 = ['1IHWl5LamUGEuP4ozKQSXZ', '4C6Uex2ILwJi9sZXRdmqXp', '76OGwb5RA9h4FxQPT33ekc', '1RDvyOk4WtPCtoqciJwVn8', '0HqZX76SFLDz2aW8aiqi7G', '3WMj8moIAXJhHsyLaqIIHI', '5CM4UuQ9Gnd6K2YyKGPMoK', '0hquQWY3xvYqN4qtiquniF', '4FyesJzVpA39hbYvcseO2d', '1PckUlxKqWQs3RlWXVBLw3']\n",
    "track_ids4 = ['0mBP9X2gPCuapvpZ7TGDk3', '6G12ZafqofSq7YtrMqUm76', '39JofJHEtg8I4fSyo7Imft', '72yP0DUlWPyH8P7IoxskwN', '2TktkzfozZifbQhXjT6I33', '5unjCay0kUjuej5ebn4nS4', '5HCyWlXZPP0y6Gqq8TgA20', '0T5iIrXA4p5GsubkhuBIKV', '1Ame8XTX6QHY0l0ahqUhgv', '2tTmW7RDtMQtBk7m2rYeSw']\n",
    "track_ids5 = ['59nOXPmaKlBfGMDeOVGrIK', '37vVp2sWHuuIBOSl1NswP6', '0XER3HPMx223xWaAgNKp4Y', '2rmwqU7yzTvzkiaRV53DpT', '1xK59OXxi2TAAAbmZK0kBL', '5ildQOEKmJuWGl2vRkFdYc', '5hnGrTBaEsdukpDF6aZg8a', '5uSFGgIfHMT3osrAd9n9ym', '3LtpKP5abr2qqjunvjlX5i', '0ARKW62l9uWIDYMZTUmJHF']\n",
    "top_hits_track_strings = ','.join(str(x) for x in track_ids1+track_ids2+track_ids3+track_ids4+track_ids5)\n",
    "track_features_endpoint = \"https://api.spotify.com/v1/audio-features?ids={}\".format(top_hits_track_strings)\n",
    "top_hits_features = requests.get(track_features_endpoint, headers = session_header)\n",
    "print(top_hits_features.status_code)"
   ]
  },
  {
   "cell_type": "markdown",
   "id": "002ed998",
   "metadata": {},
   "source": [
    "Then I loaded in the data to a pandas data frame that only displays the audio features. "
   ]
  },
  {
   "cell_type": "code",
   "execution_count": 8,
   "id": "b63f14c7",
   "metadata": {},
   "outputs": [],
   "source": [
    "top_hits_tracks_dict = json.loads(top_hits_features.text)\n",
    "top_hits_df = pd.DataFrame(top_hits_tracks_dict['audio_features'])"
   ]
  },
  {
   "cell_type": "markdown",
   "id": "3b6fab4e",
   "metadata": {},
   "source": [
    "![](Cymbals.jpg)"
   ]
  },
  {
   "cell_type": "markdown",
   "id": "0b4e4f9f",
   "metadata": {},
   "source": [
    "I repeated this process with the Baroque Classics playlist. "
   ]
  },
  {
   "cell_type": "code",
   "execution_count": 9,
   "id": "906df582",
   "metadata": {},
   "outputs": [
    {
     "name": "stdout",
     "output_type": "stream",
     "text": [
      "200\n"
     ]
    }
   ],
   "source": [
    "classic_id = '4DvteColbVCrs7iIgc4r6x'\n",
    "playlist_endpoint = \"https://api.spotify.com/v1/playlists/{}/tracks\".format(classic_id)\n",
    "classic_tracks = requests.get(playlist_endpoint, headers = session_header)\n",
    "print(classic_tracks.status_code)"
   ]
  },
  {
   "cell_type": "code",
   "execution_count": 10,
   "id": "cae6aac0",
   "metadata": {},
   "outputs": [],
   "source": [
    "classic_dict = json.loads(classic_tracks.text)\n",
    "classic_df = pd.DataFrame(classic_dict['items'])\n",
    "c_tracks_df = pd.DataFrame(list(classic_df['track']))"
   ]
  },
  {
   "cell_type": "markdown",
   "id": "91842ee3",
   "metadata": {},
   "source": [
    "As mentioned previously, I used a random number generator to help me pick the 50 tracks from the playlist to look at. Because I am only using random tracks from the data frame, I think this same method for creating the string of ids would have to be used regardless of what I do with the Top Hits data frame; but again, it gets me the information I need. "
   ]
  },
  {
   "cell_type": "code",
   "execution_count": 11,
   "id": "160b6255",
   "metadata": {},
   "outputs": [
    {
     "name": "stdout",
     "output_type": "stream",
     "text": [
      "200\n"
     ]
    }
   ],
   "source": [
    "ctrack_ids1 = ['68pcPR8jd2djrHAAKYNsw4', '6srU3wlimYXpxBNoCabQGi', '3i8zRjiO3MNaEkrCsp5Ioh', '5S94PIQplSfBHZXsZowyGY', '6P7Ktg9c8YJbgyCqgukEmr', '5FNxBADhe8SM9Aejtw1AfR', '6OWBcTGl5cVn3xBHKrP3fi', '0ka8jmHCpHOiIJm4dgj6MF', '2f3gjXOD5ZdtyjskiT7vdS', '64ZxBE1ZgK4C0lGljXzDcG']\n",
    "ctrack_ids2 = ['5w7zbR1ZV0Ee7tNFgVROwz', '18JxYMTSFKZlxqdNFrOs1r', '2bahH18wWfRwc073dKyfkT', '5dkKWRisTmeD85NuvNOQHH', '1OjmXxAaUYisbr6wNhyhiP', '267jqHim1E5DzjDfXjM90X', '1SBPeZr2Jy6mwX8X0SE3Cy', '3HEGe9L8HE5r0MQ751BicP', '1Gd0GJF72EJiPFFJYSeDO9', '5bu9A6uphPWg39RC3ZKeku']\n",
    "ctrack_ids3 = ['5gKa9ap9gLwcCqYSZXkB7x', '2XkKjX6CcG7oQSaID54vjD', '6XgeIl03iqC7W89VmexJ5t', '3613rpwb4iF0gyWFwLWeDC', '5dSsnewB866BdN1aOE64Jk', '0mD1a7haZKdX9I0oPywrMb', '3Bp8T6l1Hc5OlM87U9jtB5', '5mHo72ntBoYSBjfiLiBLUM', '5TyDo6Ay5MN5VPlsPTBMl2', '1Q0YVDfALJ8xRXPsP0nlKg']\n",
    "ctrack_ids4 = ['3dcKH2hiRBEARnijIF7rFm', '21rKK1lBgAMGqCShuqUyOf', '6jYl96tQY0lsG1tZtACDZx', '57EbM9h0XQG4qiiFUNgZ4W', '5NCVRnVeZk0nvqimk8D1Pt', '1QPRW7vWciCl9lUViiXJPv', '4JncPOVVxWr8Bjkz32bRFu', '6uTCvFRE00RsW3AUf39Evn', '0KHG44mT1UQBsmkZVYCpxp', '2VFWZbQk5XmTtkCkeOFgVo']\n",
    "ctrack_ids5 = ['3sCGNW7o2uBpzbuUZInsbt', '4wRxPnMfvD1YqbOp9tDO6l', '2NpeOffr2aIpaoXNaXgdsV', '3doapWnT6l06sus63ctRtZ', '2uGkH3hFOydm8C20DoQ0HX', '0TNpryuAtSnygC3hosDGST', '47xdo9qYjAbOIVVBAqom1b', '4KuGb0cwL8KKSySLhS5F3H', '6glOeA1zQhc1plugv0NutP', '5s58LV3A5ytDqGd6Mii2Rp']\n",
    "classic_track_strings = ','.join(str(x) for x in ctrack_ids1+ctrack_ids2+ctrack_ids3+ctrack_ids4+ctrack_ids5)\n",
    "track_features_endpoint = \"https://api.spotify.com/v1/audio-features?ids={}\".format(classic_track_strings)\n",
    "classic_features = requests.get(track_features_endpoint, headers = session_header)\n",
    "print(classic_features.status_code)"
   ]
  },
  {
   "cell_type": "code",
   "execution_count": 12,
   "id": "d1791783",
   "metadata": {},
   "outputs": [],
   "source": [
    "classic_tracks_dict = json.loads(classic_features.text)\n",
    "classic_df = pd.DataFrame(classic_tracks_dict['audio_features'])"
   ]
  },
  {
   "cell_type": "markdown",
   "id": "424f958f",
   "metadata": {},
   "source": [
    "Finally, I join the two data frames together using the concat() method. The first five and last five items in the data frame are displayed. "
   ]
  },
  {
   "cell_type": "code",
   "execution_count": 13,
   "id": "ad4ea764",
   "metadata": {},
   "outputs": [
    {
     "data": {
      "text/html": [
       "<div>\n",
       "<style scoped>\n",
       "    .dataframe tbody tr th:only-of-type {\n",
       "        vertical-align: middle;\n",
       "    }\n",
       "\n",
       "    .dataframe tbody tr th {\n",
       "        vertical-align: top;\n",
       "    }\n",
       "\n",
       "    .dataframe thead th {\n",
       "        text-align: right;\n",
       "    }\n",
       "</style>\n",
       "<table border=\"1\" class=\"dataframe\">\n",
       "  <thead>\n",
       "    <tr style=\"text-align: right;\">\n",
       "      <th></th>\n",
       "      <th>danceability</th>\n",
       "      <th>energy</th>\n",
       "      <th>key</th>\n",
       "      <th>loudness</th>\n",
       "      <th>mode</th>\n",
       "      <th>speechiness</th>\n",
       "      <th>acousticness</th>\n",
       "      <th>instrumentalness</th>\n",
       "      <th>liveness</th>\n",
       "      <th>valence</th>\n",
       "      <th>tempo</th>\n",
       "      <th>type</th>\n",
       "      <th>id</th>\n",
       "      <th>uri</th>\n",
       "      <th>track_href</th>\n",
       "      <th>analysis_url</th>\n",
       "      <th>duration_ms</th>\n",
       "      <th>time_signature</th>\n",
       "    </tr>\n",
       "  </thead>\n",
       "  <tbody>\n",
       "    <tr>\n",
       "      <th>0</th>\n",
       "      <td>0.637</td>\n",
       "      <td>0.643</td>\n",
       "      <td>4</td>\n",
       "      <td>-6.571</td>\n",
       "      <td>1</td>\n",
       "      <td>0.0519</td>\n",
       "      <td>0.1300</td>\n",
       "      <td>0.000002</td>\n",
       "      <td>0.1420</td>\n",
       "      <td>0.533</td>\n",
       "      <td>97.008</td>\n",
       "      <td>audio_features</td>\n",
       "      <td>0V3wPSX9ygBnCm8psDIegu</td>\n",
       "      <td>spotify:track:0V3wPSX9ygBnCm8psDIegu</td>\n",
       "      <td>https://api.spotify.com/v1/tracks/0V3wPSX9ygBn...</td>\n",
       "      <td>https://api.spotify.com/v1/audio-analysis/0V3w...</td>\n",
       "      <td>200690</td>\n",
       "      <td>4</td>\n",
       "    </tr>\n",
       "    <tr>\n",
       "      <th>1</th>\n",
       "      <td>0.714</td>\n",
       "      <td>0.472</td>\n",
       "      <td>2</td>\n",
       "      <td>-7.375</td>\n",
       "      <td>1</td>\n",
       "      <td>0.0864</td>\n",
       "      <td>0.0130</td>\n",
       "      <td>0.000005</td>\n",
       "      <td>0.2660</td>\n",
       "      <td>0.238</td>\n",
       "      <td>131.121</td>\n",
       "      <td>audio_features</td>\n",
       "      <td>3nqQXoyQOWXiESFLlDF1hG</td>\n",
       "      <td>spotify:track:3nqQXoyQOWXiESFLlDF1hG</td>\n",
       "      <td>https://api.spotify.com/v1/tracks/3nqQXoyQOWXi...</td>\n",
       "      <td>https://api.spotify.com/v1/audio-analysis/3nqQ...</td>\n",
       "      <td>156943</td>\n",
       "      <td>4</td>\n",
       "    </tr>\n",
       "    <tr>\n",
       "      <th>2</th>\n",
       "      <td>0.780</td>\n",
       "      <td>0.689</td>\n",
       "      <td>7</td>\n",
       "      <td>-5.668</td>\n",
       "      <td>1</td>\n",
       "      <td>0.1410</td>\n",
       "      <td>0.0368</td>\n",
       "      <td>0.000010</td>\n",
       "      <td>0.0698</td>\n",
       "      <td>0.642</td>\n",
       "      <td>115.042</td>\n",
       "      <td>audio_features</td>\n",
       "      <td>1xzi1Jcr7mEi9K2RfzLOqS</td>\n",
       "      <td>spotify:track:1xzi1Jcr7mEi9K2RfzLOqS</td>\n",
       "      <td>https://api.spotify.com/v1/tracks/1xzi1Jcr7mEi...</td>\n",
       "      <td>https://api.spotify.com/v1/audio-analysis/1xzi...</td>\n",
       "      <td>225389</td>\n",
       "      <td>4</td>\n",
       "    </tr>\n",
       "    <tr>\n",
       "      <th>3</th>\n",
       "      <td>0.520</td>\n",
       "      <td>0.731</td>\n",
       "      <td>6</td>\n",
       "      <td>-5.338</td>\n",
       "      <td>0</td>\n",
       "      <td>0.0557</td>\n",
       "      <td>0.3420</td>\n",
       "      <td>0.001010</td>\n",
       "      <td>0.3110</td>\n",
       "      <td>0.662</td>\n",
       "      <td>173.930</td>\n",
       "      <td>audio_features</td>\n",
       "      <td>4LRPiXqCikLlN15c3yImP7</td>\n",
       "      <td>spotify:track:4LRPiXqCikLlN15c3yImP7</td>\n",
       "      <td>https://api.spotify.com/v1/tracks/4LRPiXqCikLl...</td>\n",
       "      <td>https://api.spotify.com/v1/audio-analysis/4LRP...</td>\n",
       "      <td>167303</td>\n",
       "      <td>4</td>\n",
       "    </tr>\n",
       "    <tr>\n",
       "      <th>4</th>\n",
       "      <td>0.801</td>\n",
       "      <td>0.806</td>\n",
       "      <td>11</td>\n",
       "      <td>-5.206</td>\n",
       "      <td>1</td>\n",
       "      <td>0.0381</td>\n",
       "      <td>0.3820</td>\n",
       "      <td>0.000669</td>\n",
       "      <td>0.1140</td>\n",
       "      <td>0.802</td>\n",
       "      <td>106.999</td>\n",
       "      <td>audio_features</td>\n",
       "      <td>0WtM2NBVQNNJLh6scP13H8</td>\n",
       "      <td>spotify:track:0WtM2NBVQNNJLh6scP13H8</td>\n",
       "      <td>https://api.spotify.com/v1/tracks/0WtM2NBVQNNJ...</td>\n",
       "      <td>https://api.spotify.com/v1/audio-analysis/0WtM...</td>\n",
       "      <td>239318</td>\n",
       "      <td>4</td>\n",
       "    </tr>\n",
       "  </tbody>\n",
       "</table>\n",
       "</div>"
      ],
      "text/plain": [
       "   danceability  energy  key  loudness  mode  speechiness  acousticness  \\\n",
       "0         0.637   0.643    4    -6.571     1       0.0519        0.1300   \n",
       "1         0.714   0.472    2    -7.375     1       0.0864        0.0130   \n",
       "2         0.780   0.689    7    -5.668     1       0.1410        0.0368   \n",
       "3         0.520   0.731    6    -5.338     0       0.0557        0.3420   \n",
       "4         0.801   0.806   11    -5.206     1       0.0381        0.3820   \n",
       "\n",
       "   instrumentalness  liveness  valence    tempo            type  \\\n",
       "0          0.000002    0.1420    0.533   97.008  audio_features   \n",
       "1          0.000005    0.2660    0.238  131.121  audio_features   \n",
       "2          0.000010    0.0698    0.642  115.042  audio_features   \n",
       "3          0.001010    0.3110    0.662  173.930  audio_features   \n",
       "4          0.000669    0.1140    0.802  106.999  audio_features   \n",
       "\n",
       "                       id                                   uri  \\\n",
       "0  0V3wPSX9ygBnCm8psDIegu  spotify:track:0V3wPSX9ygBnCm8psDIegu   \n",
       "1  3nqQXoyQOWXiESFLlDF1hG  spotify:track:3nqQXoyQOWXiESFLlDF1hG   \n",
       "2  1xzi1Jcr7mEi9K2RfzLOqS  spotify:track:1xzi1Jcr7mEi9K2RfzLOqS   \n",
       "3  4LRPiXqCikLlN15c3yImP7  spotify:track:4LRPiXqCikLlN15c3yImP7   \n",
       "4  0WtM2NBVQNNJLh6scP13H8  spotify:track:0WtM2NBVQNNJLh6scP13H8   \n",
       "\n",
       "                                          track_href  \\\n",
       "0  https://api.spotify.com/v1/tracks/0V3wPSX9ygBn...   \n",
       "1  https://api.spotify.com/v1/tracks/3nqQXoyQOWXi...   \n",
       "2  https://api.spotify.com/v1/tracks/1xzi1Jcr7mEi...   \n",
       "3  https://api.spotify.com/v1/tracks/4LRPiXqCikLl...   \n",
       "4  https://api.spotify.com/v1/tracks/0WtM2NBVQNNJ...   \n",
       "\n",
       "                                        analysis_url  duration_ms  \\\n",
       "0  https://api.spotify.com/v1/audio-analysis/0V3w...       200690   \n",
       "1  https://api.spotify.com/v1/audio-analysis/3nqQ...       156943   \n",
       "2  https://api.spotify.com/v1/audio-analysis/1xzi...       225389   \n",
       "3  https://api.spotify.com/v1/audio-analysis/4LRP...       167303   \n",
       "4  https://api.spotify.com/v1/audio-analysis/0WtM...       239318   \n",
       "\n",
       "   time_signature  \n",
       "0               4  \n",
       "1               4  \n",
       "2               4  \n",
       "3               4  \n",
       "4               4  "
      ]
     },
     "execution_count": 13,
     "metadata": {},
     "output_type": "execute_result"
    }
   ],
   "source": [
    "final_df = pd.concat([top_hits_df, classic_df])\n",
    "final_df.head()"
   ]
  },
  {
   "cell_type": "code",
   "execution_count": 14,
   "id": "a3754fc9",
   "metadata": {},
   "outputs": [
    {
     "data": {
      "text/html": [
       "<div>\n",
       "<style scoped>\n",
       "    .dataframe tbody tr th:only-of-type {\n",
       "        vertical-align: middle;\n",
       "    }\n",
       "\n",
       "    .dataframe tbody tr th {\n",
       "        vertical-align: top;\n",
       "    }\n",
       "\n",
       "    .dataframe thead th {\n",
       "        text-align: right;\n",
       "    }\n",
       "</style>\n",
       "<table border=\"1\" class=\"dataframe\">\n",
       "  <thead>\n",
       "    <tr style=\"text-align: right;\">\n",
       "      <th></th>\n",
       "      <th>danceability</th>\n",
       "      <th>energy</th>\n",
       "      <th>key</th>\n",
       "      <th>loudness</th>\n",
       "      <th>mode</th>\n",
       "      <th>speechiness</th>\n",
       "      <th>acousticness</th>\n",
       "      <th>instrumentalness</th>\n",
       "      <th>liveness</th>\n",
       "      <th>valence</th>\n",
       "      <th>tempo</th>\n",
       "      <th>type</th>\n",
       "      <th>id</th>\n",
       "      <th>uri</th>\n",
       "      <th>track_href</th>\n",
       "      <th>analysis_url</th>\n",
       "      <th>duration_ms</th>\n",
       "      <th>time_signature</th>\n",
       "    </tr>\n",
       "  </thead>\n",
       "  <tbody>\n",
       "    <tr>\n",
       "      <th>45</th>\n",
       "      <td>0.1030</td>\n",
       "      <td>0.1230</td>\n",
       "      <td>3</td>\n",
       "      <td>-16.964</td>\n",
       "      <td>0</td>\n",
       "      <td>0.0519</td>\n",
       "      <td>0.875</td>\n",
       "      <td>0.000008</td>\n",
       "      <td>0.110</td>\n",
       "      <td>0.0983</td>\n",
       "      <td>48.742</td>\n",
       "      <td>audio_features</td>\n",
       "      <td>0TNpryuAtSnygC3hosDGST</td>\n",
       "      <td>spotify:track:0TNpryuAtSnygC3hosDGST</td>\n",
       "      <td>https://api.spotify.com/v1/tracks/0TNpryuAtSny...</td>\n",
       "      <td>https://api.spotify.com/v1/audio-analysis/0TNp...</td>\n",
       "      <td>154267</td>\n",
       "      <td>4</td>\n",
       "    </tr>\n",
       "    <tr>\n",
       "      <th>46</th>\n",
       "      <td>0.1390</td>\n",
       "      <td>0.1100</td>\n",
       "      <td>0</td>\n",
       "      <td>-16.155</td>\n",
       "      <td>0</td>\n",
       "      <td>0.0362</td>\n",
       "      <td>0.453</td>\n",
       "      <td>0.902000</td>\n",
       "      <td>0.107</td>\n",
       "      <td>0.0377</td>\n",
       "      <td>174.865</td>\n",
       "      <td>audio_features</td>\n",
       "      <td>47xdo9qYjAbOIVVBAqom1b</td>\n",
       "      <td>spotify:track:47xdo9qYjAbOIVVBAqom1b</td>\n",
       "      <td>https://api.spotify.com/v1/tracks/47xdo9qYjAbO...</td>\n",
       "      <td>https://api.spotify.com/v1/audio-analysis/47xd...</td>\n",
       "      <td>300213</td>\n",
       "      <td>3</td>\n",
       "    </tr>\n",
       "    <tr>\n",
       "      <th>47</th>\n",
       "      <td>0.3800</td>\n",
       "      <td>0.0842</td>\n",
       "      <td>4</td>\n",
       "      <td>-30.289</td>\n",
       "      <td>0</td>\n",
       "      <td>0.0402</td>\n",
       "      <td>0.994</td>\n",
       "      <td>0.841000</td>\n",
       "      <td>0.129</td>\n",
       "      <td>0.5320</td>\n",
       "      <td>144.768</td>\n",
       "      <td>audio_features</td>\n",
       "      <td>4KuGb0cwL8KKSySLhS5F3H</td>\n",
       "      <td>spotify:track:4KuGb0cwL8KKSySLhS5F3H</td>\n",
       "      <td>https://api.spotify.com/v1/tracks/4KuGb0cwL8KK...</td>\n",
       "      <td>https://api.spotify.com/v1/audio-analysis/4KuG...</td>\n",
       "      <td>109720</td>\n",
       "      <td>4</td>\n",
       "    </tr>\n",
       "    <tr>\n",
       "      <th>48</th>\n",
       "      <td>0.4390</td>\n",
       "      <td>0.1340</td>\n",
       "      <td>5</td>\n",
       "      <td>-21.685</td>\n",
       "      <td>0</td>\n",
       "      <td>0.0508</td>\n",
       "      <td>0.756</td>\n",
       "      <td>0.280000</td>\n",
       "      <td>0.235</td>\n",
       "      <td>0.3770</td>\n",
       "      <td>154.098</td>\n",
       "      <td>audio_features</td>\n",
       "      <td>6glOeA1zQhc1plugv0NutP</td>\n",
       "      <td>spotify:track:6glOeA1zQhc1plugv0NutP</td>\n",
       "      <td>https://api.spotify.com/v1/tracks/6glOeA1zQhc1...</td>\n",
       "      <td>https://api.spotify.com/v1/audio-analysis/6glO...</td>\n",
       "      <td>209333</td>\n",
       "      <td>4</td>\n",
       "    </tr>\n",
       "    <tr>\n",
       "      <th>49</th>\n",
       "      <td>0.0983</td>\n",
       "      <td>0.0953</td>\n",
       "      <td>2</td>\n",
       "      <td>-22.250</td>\n",
       "      <td>1</td>\n",
       "      <td>0.0503</td>\n",
       "      <td>0.971</td>\n",
       "      <td>0.773000</td>\n",
       "      <td>0.108</td>\n",
       "      <td>0.1140</td>\n",
       "      <td>171.034</td>\n",
       "      <td>audio_features</td>\n",
       "      <td>5s58LV3A5ytDqGd6Mii2Rp</td>\n",
       "      <td>spotify:track:5s58LV3A5ytDqGd6Mii2Rp</td>\n",
       "      <td>https://api.spotify.com/v1/tracks/5s58LV3A5ytD...</td>\n",
       "      <td>https://api.spotify.com/v1/audio-analysis/5s58...</td>\n",
       "      <td>269347</td>\n",
       "      <td>1</td>\n",
       "    </tr>\n",
       "  </tbody>\n",
       "</table>\n",
       "</div>"
      ],
      "text/plain": [
       "    danceability  energy  key  loudness  mode  speechiness  acousticness  \\\n",
       "45        0.1030  0.1230    3   -16.964     0       0.0519         0.875   \n",
       "46        0.1390  0.1100    0   -16.155     0       0.0362         0.453   \n",
       "47        0.3800  0.0842    4   -30.289     0       0.0402         0.994   \n",
       "48        0.4390  0.1340    5   -21.685     0       0.0508         0.756   \n",
       "49        0.0983  0.0953    2   -22.250     1       0.0503         0.971   \n",
       "\n",
       "    instrumentalness  liveness  valence    tempo            type  \\\n",
       "45          0.000008     0.110   0.0983   48.742  audio_features   \n",
       "46          0.902000     0.107   0.0377  174.865  audio_features   \n",
       "47          0.841000     0.129   0.5320  144.768  audio_features   \n",
       "48          0.280000     0.235   0.3770  154.098  audio_features   \n",
       "49          0.773000     0.108   0.1140  171.034  audio_features   \n",
       "\n",
       "                        id                                   uri  \\\n",
       "45  0TNpryuAtSnygC3hosDGST  spotify:track:0TNpryuAtSnygC3hosDGST   \n",
       "46  47xdo9qYjAbOIVVBAqom1b  spotify:track:47xdo9qYjAbOIVVBAqom1b   \n",
       "47  4KuGb0cwL8KKSySLhS5F3H  spotify:track:4KuGb0cwL8KKSySLhS5F3H   \n",
       "48  6glOeA1zQhc1plugv0NutP  spotify:track:6glOeA1zQhc1plugv0NutP   \n",
       "49  5s58LV3A5ytDqGd6Mii2Rp  spotify:track:5s58LV3A5ytDqGd6Mii2Rp   \n",
       "\n",
       "                                           track_href  \\\n",
       "45  https://api.spotify.com/v1/tracks/0TNpryuAtSny...   \n",
       "46  https://api.spotify.com/v1/tracks/47xdo9qYjAbO...   \n",
       "47  https://api.spotify.com/v1/tracks/4KuGb0cwL8KK...   \n",
       "48  https://api.spotify.com/v1/tracks/6glOeA1zQhc1...   \n",
       "49  https://api.spotify.com/v1/tracks/5s58LV3A5ytD...   \n",
       "\n",
       "                                         analysis_url  duration_ms  \\\n",
       "45  https://api.spotify.com/v1/audio-analysis/0TNp...       154267   \n",
       "46  https://api.spotify.com/v1/audio-analysis/47xd...       300213   \n",
       "47  https://api.spotify.com/v1/audio-analysis/4KuG...       109720   \n",
       "48  https://api.spotify.com/v1/audio-analysis/6glO...       209333   \n",
       "49  https://api.spotify.com/v1/audio-analysis/5s58...       269347   \n",
       "\n",
       "    time_signature  \n",
       "45               4  \n",
       "46               3  \n",
       "47               4  \n",
       "48               4  \n",
       "49               1  "
      ]
     },
     "execution_count": 14,
     "metadata": {},
     "output_type": "execute_result"
    }
   ],
   "source": [
    "final_df.tail()"
   ]
  },
  {
   "cell_type": "markdown",
   "id": "fd3ed68b",
   "metadata": {},
   "source": [
    "![](Tuba.jpg)"
   ]
  },
  {
   "cell_type": "markdown",
   "id": "6589180c",
   "metadata": {},
   "source": [
    "To reiterate, I want to analyze the similarities and differences between the audio features of this Baroque Classical playlist and this Top Hits playlist. To my knowledge, no one has done this type of analysis using specifically Spotify data before (that I could find), so I want to see if anything can be gleaned from this examination of Spotify data. \n",
    "\n",
    "To start this analysis, I created visualizations for the [different variables for which Spotify collects data](https://developer.spotify.com/documentation/web-api/reference/#/operations/get-several-audio-features). Some of the variables are set data values, meaning they are not based on algorithms but are based off the track itself. These include key signature, modality, tempo, loudness, and track duration. The rest of the variables I looked at, to my understanding, are based on algorithms created by Spotify in order to generate a value for each variable. These include danceability, energy, speechiness, acousticness, instrumentalness, liveness, and valence.\n",
    "\n",
    "For example, we cannot measure \"danceability\" like we can measure track duration, because the latter is measured using a standard unit of time. There is no standard measurement for something like danceability, so Spotify had to create their own by which to measure.  "
   ]
  },
  {
   "cell_type": "markdown",
   "id": "e1a98059",
   "metadata": {},
   "source": [
    "### 1. Danceability"
   ]
  },
  {
   "cell_type": "code",
   "execution_count": 15,
   "id": "a6d97ea6",
   "metadata": {},
   "outputs": [
    {
     "data": {
      "image/png": "[encoded data removed]",
      "text/plain": [
       "<Figure size 432x288 with 1 Axes>"
      ]
     },
     "metadata": {
      "needs_background": "light"
     },
     "output_type": "display_data"
    }
   ],
   "source": [
    "fig1, ax1 = plt.subplots(layout = 'constrained')\n",
    "th_dance = top_hits_df['danceability']\n",
    "bc_dance = classic_df['danceability']\n",
    "ax1.hist(th_dance, alpha = 0.5, color = 'blue', label = 'Top Hits')\n",
    "ax1.hist(bc_dance, alpha = 0.5, color = 'green', label = 'Baroque Classical')\n",
    "ax1.legend()\n",
    "ax1.set_xlabel('Danceability Rating')\n",
    "ax1.set_ylabel('Number of Tracks')\n",
    "ax1.set_title('Danceability Rating of Top Hits vs Baroque Classical')\n",
    "plt.show()"
   ]
  },
  {
   "cell_type": "markdown",
   "id": "10537075",
   "metadata": {},
   "source": [
    "Spotify defines danceability as \"how suitable a track is for dancing based on a combination of musical elements including tempo, rhythm stability, beat strength, and overall regularity.\" I do not believe it is surprising to see that tracks from the Top Hits playlist generally have a higher danceability compared to tracks from the Baroque Classical playlist, though there are 3 songs from the latter playlist that have a moderately high danceability rating of around 0.6, so that is an interesting find. "
   ]
  },
  {
   "cell_type": "markdown",
   "id": "2264429c",
   "metadata": {},
   "source": [
    "### 2. Energy"
   ]
  },
  {
   "cell_type": "code",
   "execution_count": 16,
   "id": "0239b623",
   "metadata": {},
   "outputs": [
    {
     "data": {
      "image/png": "[encoded data removed]",
      "text/plain": [
       "<Figure size 432x288 with 1 Axes>"
      ]
     },
     "metadata": {
      "needs_background": "light"
     },
     "output_type": "display_data"
    }
   ],
   "source": [
    "fig2, ax2 = plt.subplots(layout = 'constrained')\n",
    "th_energy = top_hits_df['energy']\n",
    "bc_energy = classic_df['energy']\n",
    "ax2.hist(th_energy, alpha = 0.5, color = 'blue', label = 'Top Hits')\n",
    "ax2.hist(bc_energy, alpha = 0.5, color = 'green', label = 'Baroque Classical')\n",
    "ax2.legend()\n",
    "ax2.set_xlabel('Energy Rating')\n",
    "ax2.set_ylabel('Number of Tracks')\n",
    "ax2.set_title('Energy Rating of Top Hits vs Baroque Classical')\n",
    "plt.show()"
   ]
  },
  {
   "cell_type": "markdown",
   "id": "f5456cff",
   "metadata": {},
   "source": [
    "Energy is meant to represent the intensity and activity of a track on a scale from 0.0 to 1.0 where 0 is lowest energy and 1 is highest energy. Again, it is not surprising to see that nearly all of the tracks from the Top Hits playlist have a higher intensity than nearly all of the tracks on the Baroque Classical playlist. "
   ]
  },
  {
   "cell_type": "markdown",
   "id": "af4f50ec",
   "metadata": {},
   "source": [
    "### 3. Speechiness"
   ]
  },
  {
   "cell_type": "code",
   "execution_count": 17,
   "id": "bbec27de",
   "metadata": {},
   "outputs": [
    {
     "data": {
      "image/png": "[encoded data removed]",
      "text/plain": [
       "<Figure size 432x288 with 1 Axes>"
      ]
     },
     "metadata": {
      "needs_background": "light"
     },
     "output_type": "display_data"
    }
   ],
   "source": [
    "fig3, ax3 = plt.subplots(layout = 'constrained')\n",
    "th_speech = top_hits_df['speechiness']\n",
    "bc_speech = classic_df['speechiness']\n",
    "ax3.hist(th_speech, alpha = 0.5, color = 'blue', label = 'Top Hits')\n",
    "ax3.hist(bc_speech, alpha = 0.5, color = 'green', label = 'Baroque Classical')\n",
    "ax3.legend()\n",
    "ax3.set_xlabel('Speechiness Rating')\n",
    "ax3.set_ylabel('Number of Tracks')\n",
    "ax3.set_title('Speechiness Rating of Top Hits vs Baroque Classical')\n",
    "plt.show()"
   ]
  },
  {
   "cell_type": "markdown",
   "id": "a0ee38f1",
   "metadata": {},
   "source": [
    "Speechiness \"detects the presence of spoken words\" within a track. A speechiness rating above 0.66 means the track is likely only comprised of spoken words; a rating between 0.33 and 0.66 means the track likely contains both music and speech; and a rating under 0.33 is means the track likely has no spoken words and only music/non-speech sounds. Spotify does not clarify if singing constitutes as \"non-speech,\" but based on the above graph, I would say it does because all 100 tracks are below 0.35. \n",
    "\n",
    "I am not surprised to see the Baroque Classical tracks at the very low end of the speechiness rating, though I was surprised to see how many pop songs were also near the low end (but that could have been due to my misunderstanding of how singing would be classified). Based on this, I am goinig to guess one of the speechiest if not the speechiest genre of music is rap (this would of course need looked into with its own data set). "
   ]
  },
  {
   "cell_type": "markdown",
   "id": "db80f393",
   "metadata": {},
   "source": [
    "### 4. Acousticness"
   ]
  },
  {
   "cell_type": "code",
   "execution_count": 18,
   "id": "a9a2922a",
   "metadata": {},
   "outputs": [
    {
     "data": {
      "image/png": "[encoded data removed]",
      "text/plain": [
       "<Figure size 432x288 with 1 Axes>"
      ]
     },
     "metadata": {
      "needs_background": "light"
     },
     "output_type": "display_data"
    }
   ],
   "source": [
    "fig4, ax4 = plt.subplots(layout = 'constrained')\n",
    "th_acoustic = top_hits_df['acousticness']\n",
    "bc_acoustic = classic_df['acousticness']\n",
    "ax4.hist(th_acoustic, alpha = 0.5, color = 'blue', label = 'Top Hits')\n",
    "ax4.hist(bc_acoustic, alpha = 0.5, color = 'green', label = 'Baroque Classical')\n",
    "ax4.legend()\n",
    "ax4.set_xlabel('Acousticness Rating')\n",
    "ax4.set_ylabel('Number of Tracks')\n",
    "ax4.set_title('Acousticness Rating of Top Hits vs Baroque Classical')\n",
    "plt.show()"
   ]
  },
  {
   "cell_type": "markdown",
   "id": "3b1967a1",
   "metadata": {},
   "source": [
    "The acousticness rating is \"a confidence measure from 0.0 to 1.0 of whether the track is acoustic.\" A rating of 1.0 represents high confidence the track is acoustic, and a rating of 0.0 represents a low confidence that the track is acoustic. Most Top Hits tracks rated a low acousticness, though there are some moderate ratings, and nearly all Baroque Classical rated very high acousticness, with a couple low exceptions ranging from ~0.5 to ~0.7. This makes sense because Baroque Classical music would have only been comprised of acoustic instruments since digital instruments did not exist during that time period, while today using digital technology in the production of music is common. "
   ]
  },
  {
   "cell_type": "markdown",
   "id": "7b327590",
   "metadata": {},
   "source": [
    "![](Triangle.jpg)"
   ]
  },
  {
   "cell_type": "markdown",
   "id": "24e74fa9",
   "metadata": {},
   "source": [
    "### 5. Instrumentalness"
   ]
  },
  {
   "cell_type": "code",
   "execution_count": 19,
   "id": "06e88f9d",
   "metadata": {},
   "outputs": [
    {
     "data": {
      "image/png": "[encoded data removed]",
      "text/plain": [
       "<Figure size 432x288 with 1 Axes>"
      ]
     },
     "metadata": {
      "needs_background": "light"
     },
     "output_type": "display_data"
    }
   ],
   "source": [
    "fig5, ax5 = plt.subplots(layout = 'constrained')\n",
    "th_instrum = top_hits_df['instrumentalness']\n",
    "bc_instrum = classic_df['instrumentalness']\n",
    "ax5.hist(th_instrum, alpha = 0.5, color = 'blue', label = 'Top Hits')\n",
    "ax5.hist(bc_instrum, alpha = 0.5, color = 'green', label = 'Baroque Classical')\n",
    "ax5.legend()\n",
    "ax5.set_xlabel('Instrumentalness Rating')\n",
    "ax5.set_ylabel('Number of Tracks')\n",
    "ax5.set_title('Instrumentalness Rating of Top Hits vs Baroque Classical')\n",
    "plt.show()"
   ]
  },
  {
   "cell_type": "markdown",
   "id": "7066c06e",
   "metadata": {},
   "source": [
    "The instrumentalness rating \"predicts whether a track contains no vocals.\" The closer to 1.0, the greater the likelihood that the track contains no vocal content, and the closer to 0.0, the greater the likelihood that the  track contains a lot of vocal content; therefore, ratings above 0.5 typically represent instrumental tracks. It is once again not surprising to see that all of the Top Hits tracks have incredibly low instrumentalness ratings. However, there are more Baroque Classical tracks below 0.5 than I was expecting; it actually has a decent spread and is bimodal, with the two modes on opposite sides of the scale. "
   ]
  },
  {
   "cell_type": "markdown",
   "id": "7c889728",
   "metadata": {},
   "source": [
    "### 6. Valence"
   ]
  },
  {
   "cell_type": "code",
   "execution_count": 20,
   "id": "faaa3870",
   "metadata": {},
   "outputs": [
    {
     "data": {
      "image/png": "[encoded data removed]",
      "text/plain": [
       "<Figure size 432x288 with 1 Axes>"
      ]
     },
     "metadata": {
      "needs_background": "light"
     },
     "output_type": "display_data"
    }
   ],
   "source": [
    "fig6, ax6 = plt.subplots(layout = 'constrained')\n",
    "th_valence = top_hits_df['valence']\n",
    "bc_valence = classic_df['valence']\n",
    "ax6.hist(th_valence, alpha = 0.5, color = 'blue', label = 'Top Hits')\n",
    "ax6.hist(bc_valence, alpha = 0.5, color = 'green', label = 'Baroque Classical')\n",
    "ax6.legend()\n",
    "ax6.set_xlabel('Valence Rating')\n",
    "ax6.set_ylabel('Number of Tracks')\n",
    "ax6.set_title('Valence Rating of Top Hits vs Baroque Classical')\n",
    "plt.show()"
   ]
  },
  {
   "cell_type": "markdown",
   "id": "dd75f771",
   "metadata": {},
   "source": [
    "Valence is \"a measure from 0.0 to 1.0 describing the musical positiveness conveyed by a track.\" Tracks with a higher valence are more positive, happy, cheerful; tracks with a lower valence are more negative, sadder, and angrier. Out of all the data visualizations in this report, I was most surprised by this one. I was not expecting the tracks of Baroque Classical to be so spread, and definitely not for that playlist to have the highest number of least-positive songs. In contrast, The Top Hits playlist has the highest number of most-positive songs, but it also has a decent spread. This tells me that humans have been using music to express our wide range of emotions for a long time. "
   ]
  },
  {
   "cell_type": "markdown",
   "id": "1aa196df",
   "metadata": {},
   "source": [
    "### 7. Liveness"
   ]
  },
  {
   "cell_type": "code",
   "execution_count": 21,
   "id": "bdb70cd4",
   "metadata": {
    "scrolled": true
   },
   "outputs": [
    {
     "data": {
      "image/png": "[encoded data removed]",
      "text/plain": [
       "<Figure size 432x288 with 1 Axes>"
      ]
     },
     "metadata": {
      "needs_background": "light"
     },
     "output_type": "display_data"
    }
   ],
   "source": [
    "fig7, ax7 = plt.subplots(layout = 'constrained')\n",
    "th_live = top_hits_df['liveness']\n",
    "bc_live = classic_df['liveness']\n",
    "ax7.hist(th_live, alpha = 0.5, color = 'blue', label = 'Top Hits')\n",
    "ax7.hist(bc_live, alpha = 0.5, color = 'green', label = 'Baroque Classical')\n",
    "ax7.legend()\n",
    "ax7.set_xlabel('Liveness Rating')\n",
    "ax7.set_ylabel('Number of Tracks')\n",
    "ax7.set_title('Liveness Rating of Top Hits vs Baroque Classical')\n",
    "plt.show()"
   ]
  },
  {
   "cell_type": "markdown",
   "id": "6c3f71b3",
   "metadata": {},
   "source": [
    "The liveness rating \"detects the presence of an audience in the recording.\" This means that a higher liveness rating means a higher probability that the track was recorded live. All 100 tracks are below a 0.5 rating, so I believe the probability is low that any of these were recorded live, especially since most of the ratings seem to be below 0.25. "
   ]
  },
  {
   "cell_type": "markdown",
   "id": "5fdd1556",
   "metadata": {},
   "source": [
    "### 8. Loudness"
   ]
  },
  {
   "cell_type": "code",
   "execution_count": 22,
   "id": "192eae58",
   "metadata": {},
   "outputs": [
    {
     "data": {
      "image/png": "[encoded data removed]",
      "text/plain": [
       "<Figure size 432x288 with 1 Axes>"
      ]
     },
     "metadata": {
      "needs_background": "light"
     },
     "output_type": "display_data"
    }
   ],
   "source": [
    "fig8, ax8 = plt.subplots(layout = 'constrained')\n",
    "th_loud = top_hits_df['loudness']\n",
    "bc_loud = classic_df['loudness']\n",
    "ax8.hist(th_loud, alpha = 0.5, color = 'blue', label = 'Top Hits')\n",
    "ax8.hist(bc_loud, alpha = 0.5, color = 'green', label = 'Baroque Classical')\n",
    "ax8.legend()\n",
    "ax8.set_xlabel('Loudness Rating')\n",
    "ax8.set_ylabel('Number of Tracks')\n",
    "ax8.set_title('Loudness Rating of Top Hits vs Baroque Classical')\n",
    "plt.show()"
   ]
  },
  {
   "cell_type": "markdown",
   "id": "d706f70f",
   "metadata": {},
   "source": [
    "The loudness rating refers to \"the overall loudness of a track in decibels (dB),\" or the \"quality of a sound that is the primary psychological correlate of physical strength (amplitude).\" According to Spotify, loudness ratings are typically between -60 and 0 dB, and all tracks from both playlists fall in this range. Based on my understanding of [decibels](https://www.scienceabc.com/pure-sciences/why-negative-decibels-are-a-thing.html), I believe the closer-to-0 values are louder and the farther-from-0 values are quieter. Therefore, Baroque Classical seems to be softer than the Top Hits and has a wider spread. "
   ]
  },
  {
   "cell_type": "markdown",
   "id": "b3bf2787",
   "metadata": {},
   "source": [
    "### 9. Track Duration"
   ]
  },
  {
   "cell_type": "code",
   "execution_count": 23,
   "id": "52fdab16",
   "metadata": {},
   "outputs": [
    {
     "data": {
      "image/png": "[encoded data removed]",
      "text/plain": [
       "<Figure size 432x288 with 1 Axes>"
      ]
     },
     "metadata": {
      "needs_background": "light"
     },
     "output_type": "display_data"
    }
   ],
   "source": [
    "fig9, ax9 = plt.subplots(layout = 'constrained')\n",
    "th_dura = top_hits_df['duration_ms']\n",
    "bc_dura = classic_df['duration_ms']\n",
    "ax9.hist(th_dura, alpha = 0.5, color = 'blue', label = 'Top Hits')\n",
    "ax9.hist(bc_dura, alpha = 0.5, color = 'green', label = 'Baroque Classical')\n",
    "ax9.legend()\n",
    "ax9.set_xlabel('Duration of Track (in ms)')\n",
    "ax9.set_ylabel('Number of Tracks')\n",
    "ax9.set_title('Track Duration of Top Hits vs Baroque Classical')\n",
    "plt.show()"
   ]
  },
  {
   "cell_type": "markdown",
   "id": "5edca461",
   "metadata": {},
   "source": [
    "This graph visualizes the duration of track (or how long the song is) in milliseconds (so 100,000 milliseconds is 100 seconds, or a minute and 40 seconds). Baroque Classical tracks have a much wider spread and tend to be longer compared to Top Hits tracks. This could have to do with current pop being played on radio stations that could require a time limit for various reasons. "
   ]
  },
  {
   "cell_type": "markdown",
   "id": "690141d2",
   "metadata": {},
   "source": [
    "![](Saxophone.jpg)"
   ]
  },
  {
   "cell_type": "markdown",
   "id": "5241494b",
   "metadata": {},
   "source": [
    "### 10. Tempo"
   ]
  },
  {
   "cell_type": "code",
   "execution_count": 24,
   "id": "ea713833",
   "metadata": {
    "scrolled": true
   },
   "outputs": [
    {
     "data": {
      "image/png": "[encoded data removed]",
      "text/plain": [
       "<Figure size 432x288 with 1 Axes>"
      ]
     },
     "metadata": {
      "needs_background": "light"
     },
     "output_type": "display_data"
    }
   ],
   "source": [
    "fig10, ax10 = plt.subplots(layout = 'constrained')\n",
    "th_tempo = top_hits_df['tempo']\n",
    "bc_tempo = classic_df['tempo']\n",
    "ax10.hist(th_tempo, alpha = 0.5, color = 'blue', label = 'Top Hits')\n",
    "ax10.hist(bc_tempo, alpha = 0.5, color = 'green', label = 'Baroque Classical')\n",
    "ax10.legend()\n",
    "ax10.set_xlabel('Tempo')\n",
    "ax10.set_ylabel('Number of Tracks')\n",
    "ax10.set_title('Tempo of Top Hits vs Baroque Classical')\n",
    "plt.show()"
   ]
  },
  {
   "cell_type": "markdown",
   "id": "065a2d3b",
   "metadata": {},
   "source": [
    "In this case the tempo value refers to \"the overall estimated tempo of a track in beats per minute (BPM),\" and tempo is the speed of a given piece of music. The Baroque Classical has a wider spread as well as some of the slowest songs out of the sample. The Top Hits has a more narrower spread and is on the faster side of the scale. Interestingly, both playlists seem to peak around the same value of about 100 to 110. "
   ]
  },
  {
   "cell_type": "markdown",
   "id": "884042b1",
   "metadata": {},
   "source": [
    "### 11. Key Signature"
   ]
  },
  {
   "cell_type": "code",
   "execution_count": 25,
   "id": "7484c180",
   "metadata": {},
   "outputs": [
    {
     "data": {
      "image/png": "[encoded data removed]",
      "text/plain": [
       "<Figure size 432x576 with 2 Axes>"
      ]
     },
     "metadata": {
      "needs_background": "light"
     },
     "output_type": "display_data"
    }
   ],
   "source": [
    "fig11, ax11 = plt.subplots(2, 1, layout = 'constrained')\n",
    "fig11.set_figheight(8)\n",
    "th_key = top_hits_df.groupby('key').count()['id']\n",
    "bc_key = classic_df.groupby('key').count()['id']\n",
    "labels = ['C', 'D♭', 'D', 'E♭', 'E', 'F', 'G♭', 'G', 'A♭', 'A', 'B♭', 'B']\n",
    "ax11[0].bar(labels, th_key, alpha = 0.5, color = 'blue')\n",
    "ax11[1].bar(labels, bc_key, alpha = 0.5, color = 'green')\n",
    "ax11[0].set_ylabel('Number of Tracks')\n",
    "ax11[0].set_title('Frequency of Key Signatures in Top Hits')\n",
    "ax11[1].set_ylabel('Number of Tracks')\n",
    "ax11[1].set_title('Frequency of Key Signatures in Baroque Classical')\n",
    "plt.show()"
   ]
  },
  {
   "cell_type": "markdown",
   "id": "2950c528",
   "metadata": {},
   "source": [
    "In the data frame, Spotify assigns a number to signify which key the track is in, and this number is associated with the key's [Pitch Class](https://en.wikipedia.org/wiki/Pitch_class) (meaning each key already has a number associated with it). Therefore, instead of labeling the x-axis with the numbers in the data frame, I was able to label them with their associated key, which would make the graph easier to understand. \n",
    "\n",
    "The most popular keys of the Top Hits playlist are C, D and G, and B-flat. The most popular keys of the Baroque Classical playlist are D (by a relatively decent number), B, and E. E-flat is not popular in either playlist. This by itself does not say much, but if we were to compare the keys used for several musical time periods, I think we could learn more.   "
   ]
  },
  {
   "cell_type": "markdown",
   "id": "ed97a1ba",
   "metadata": {},
   "source": [
    "### 12. Mode"
   ]
  },
  {
   "cell_type": "code",
   "execution_count": 26,
   "id": "79a258c8",
   "metadata": {
    "scrolled": true
   },
   "outputs": [
    {
     "data": {
      "image/png": "[encoded data removed]",
      "text/plain": [
       "<Figure size 432x288 with 2 Axes>"
      ]
     },
     "metadata": {
      "needs_background": "light"
     },
     "output_type": "display_data"
    }
   ],
   "source": [
    "fig12, ax12 = plt.subplots(2, 1, layout = 'constrained')\n",
    "th_mode = top_hits_df.groupby('mode').count()['id']\n",
    "bc_mode = classic_df.groupby('mode').count()['id']\n",
    "labels = ['Minor', 'Major']\n",
    "ax12[0].bar(labels, th_mode, alpha = 0.5, color = 'blue')\n",
    "ax12[1].bar(labels, bc_mode, alpha = 0.5, color = 'green')\n",
    "ax12[0].set_ylabel('Number of Tracks')\n",
    "ax12[0].set_title('Mode of Top Hits')\n",
    "ax12[1].set_ylabel('Number of Tracks')\n",
    "ax12[1].set_title('Mode of Baroque Classical')\n",
    "plt.show()"
   ]
  },
  {
   "cell_type": "markdown",
   "id": "53911e32",
   "metadata": {},
   "source": [
    "The mode refers to the modality of a track, or whether the track is in a minor key or a major key. Major is represented by the number 1 and minor is represented by 0. Clearly, Top Hits has more major tracks, and Baroque Classical has more minor tracks. \n",
    "\n",
    "After creating this visualization of mode, I thought about looking at mode in relation to valence because I was under the impression that major keys tended to sound happier and minor keys tended to sound sadder, so I wanted to see if that correlated with the valence of the tracks. "
   ]
  },
  {
   "cell_type": "code",
   "execution_count": 28,
   "id": "ce4d54b5",
   "metadata": {},
   "outputs": [
    {
     "data": {
      "image/png": "[encoded data removed]",
      "text/plain": [
       "<Figure size 432x576 with 2 Axes>"
      ]
     },
     "metadata": {
      "needs_background": "light"
     },
     "output_type": "display_data"
    }
   ],
   "source": [
    "fig13, ax13 = plt.subplots(2, 1, layout = 'constrained')\n",
    "fig13.set_figheight(8)\n",
    "th_minor_val = top_hits_df[top_hits_df['mode'] == 0]['valence']\n",
    "th_major_val = top_hits_df[top_hits_df['mode'] == 1]['valence']\n",
    "th_minor_x = [1] * len(th_minor_val)\n",
    "th_major_x = [2] * len(th_major_val)\n",
    "th_minor_x_jitter = np.random.uniform(-0.10, 0.10, len(th_minor_x))\n",
    "th_major_x_jitter = np.random.uniform(-0.10, 0.10, len(th_major_x))\n",
    "ax13[0].scatter(th_minor_x + th_minor_x_jitter, th_minor_val, alpha = 0.5, color = 'green')\n",
    "ax13[0].scatter(th_major_x + th_major_x_jitter, th_major_val, alpha = 0.5)\n",
    "ax13[0].boxplot([th_minor_val, th_major_val])\n",
    "ax13[0].set_xticks([1,2], ['Minor', 'Major'])\n",
    "ax13[0].set_ylabel('Valence Rating')\n",
    "ax13[0].set_title('Valence Rating of Top Hits by Minor and Major Key')\n",
    "bc_minor_val = classic_df[classic_df['mode'] == 0]['valence']\n",
    "bc_major_val = classic_df[classic_df['mode'] == 1]['valence']\n",
    "bc_minor_x = [1] * len(bc_minor_val)\n",
    "bc_major_x = [2] * len(bc_major_val)\n",
    "bc_minor_x_jitter = np.random.uniform(-0.10, 0.10, len(bc_minor_x))\n",
    "bc_major_x_jitter = np.random.uniform(-0.10, 0.10, len(bc_major_x))\n",
    "ax13[1].scatter(bc_minor_x + bc_minor_x_jitter, bc_minor_val, alpha = 0.5, color = 'green')\n",
    "ax13[1].scatter(bc_major_x + bc_major_x_jitter, bc_major_val, alpha = 0.5)\n",
    "ax13[1].boxplot([bc_minor_val, bc_major_val])\n",
    "ax13[1].set_xticks([1,2], ['Minor', 'Major'])\n",
    "ax13[1].set_ylabel('Valence Rating')\n",
    "ax13[1].set_title('Valence Rating of Baroque Classical by Minor and Major Key')\n",
    "plt.show()"
   ]
  },
  {
   "cell_type": "markdown",
   "id": "ce3570f3",
   "metadata": {},
   "source": [
    "Based on the above graph, it does not seem like there is a relationship between modality and valence. Both playlists have major tracks that range from high valence to low valence, so both positive and negative, and the same idea goes for the minor tracks of both playlists, though the minor Baroque Classical tracks seem to be a little more concentrated on the low side of valence.  "
   ]
  },
  {
   "cell_type": "markdown",
   "id": "2f9746cf",
   "metadata": {},
   "source": [
    "![](Trombone.jpg)"
   ]
  },
  {
   "cell_type": "markdown",
   "id": "f55a41fa",
   "metadata": {},
   "source": [
    "In summary, the speechiness, valence, liveness, and tempo were the most similar audio features between the two playlists. I think the most significant of these is the valence, because it suggests that humans have been expressing their wide range of emotions in their music for centuries, even during the Baroque Classical when most of the music was only instrumental. Personally, I find this fascinating that we can communicate and relate to each other through music rather than speech. In contrast, it appears that the danceability, energy, acousticness, instrumentalness, loudness, duration, and mode were the most different audio features between the Top Hits playlist and the Baroque Classical playlist sample. There are probably many reasons for this that I cannot definitively explain just based on this report alone. While it might not be necessarily incorrect to chalk this up to the fact these are different time periods, I think it would be an injustice to human creativity to provide such a simple explanation. Rather: what specifically was different between the two time periods and how might that result in the musical differences visualized above? A more thorough examination could be put together with more time and research to answer that question. These questions could also be applied to any two (or more) time periods' music.   \n",
    "\n",
    "This is just a one small piece of a much, much larger puzzle examining the evolution of music. From such a small sample size, no concrete conclusions can be made about Classical vs. Pop music in general. A next step could be to separate the history of music into chunks of time and compare each chunk, regardless of music genre, to see generally what kind of music humans were creating during each time period. Breaking each time period's music into their respective genres (if applicable) would add even more complexity, but could add additional insight as well if one wanted to dive that deep. This would be a monumental task and would take a lot of work and time, but I think it would be enlightening.\n",
    "\n",
    "Overall this specific analysis suggests that at least these two playlists are more different than similar, but are not entire polar opposites that some people might expect. Also, clearly these two types of music are objectively different, but that does not mean one is objectively better than the other based on those differences. Like with all art forms, music is subjective and open to the listeners' interpretations. As a final takeaway, even if you are unfamiliar with or actively dislike a genre or time period of music, I ask you at least appreciate the time and thought that was put into creating it, and what it means to others for that music to exist."
   ]
  }
 ],
 "metadata": {
  "kernelspec": {
   "display_name": "Python 3 (ipykernel)",
   "language": "python",
   "name": "python3"
  },
  "language_info": {
   "codemirror_mode": {
    "name": "ipython",
    "version": 3
   },
   "file_extension": ".py",
   "mimetype": "text/x-python",
   "name": "python",
   "nbconvert_exporter": "python",
   "pygments_lexer": "ipython3",
   "version": "3.10.4"
  }
 },
 "nbformat": 4,
 "nbformat_minor": 5
}
