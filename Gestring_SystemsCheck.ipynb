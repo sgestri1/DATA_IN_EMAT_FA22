{
 "cells": [
  {
   "cell_type": "markdown",
   "id": "f984099b",
   "metadata": {},
   "source": [
    "# What I Hope to Get Out of This Class\n",
    "\n",
    "### Data in EMAT\n",
    "\n",
    "#### Serena Gestring  \n",
    "\n",
    "My main career goal is to become a web developer. I love coding in HTML/CSS and after taking a web design class here at Kent State I am absolutely positive that creating websites is what I want to do. While data science is a different technical field from web development, I am excited to take this class and this is what I am hoping to get out of it:\n",
    "\n",
    "1. Learn Python, which is used for back-end web development so I think that starting to learn the language now will benefit me in the long run\n",
    "2. Challenge my critical thinking and problem solving skills with a field of study that is new to me\n",
    "3. Learn more about data and how to analyze data so that it is meaningful to me\n",
    "\n",
    "![](https://www.mooc.org/hubfs/html-jpg.jpeg \"Example of HTML Syntax\")\n",
    "\n",
    "Image Credit: https://www.mooc.org/blog/best-programming-languages-for-web-development"
   ]
  },
  {
   "cell_type": "code",
   "execution_count": 9,
   "id": "f6186f85",
   "metadata": {},
   "outputs": [
    {
     "name": "stdout",
     "output_type": "stream",
     "text": [
      "1\n",
      "2\n",
      "3\n",
      "4\n"
     ]
    }
   ],
   "source": [
    "for i in [1,2,3,4]:\n",
    "    print(i)"
   ]
  },
  {
   "cell_type": "code",
   "execution_count": 10,
   "id": "9a112691",
   "metadata": {},
   "outputs": [
    {
     "name": "stdout",
     "output_type": "stream",
     "text": [
      "Serena\n"
     ]
    }
   ],
   "source": [
    "x = \"Serena\"\n",
    "print (x)"
   ]
  },
  {
   "cell_type": "code",
   "execution_count": 7,
   "id": "4145593a",
   "metadata": {},
   "outputs": [],
   "source": [
    "def names (x):\n",
    "    return(x)"
   ]
  },
  {
   "cell_type": "code",
   "execution_count": 8,
   "id": "ac8a1774",
   "metadata": {},
   "outputs": [
    {
     "name": "stdout",
     "output_type": "stream",
     "text": [
      "Serena\n"
     ]
    }
   ],
   "source": [
    "y = names (\"Serena\")\n",
    "print(y)"
   ]
  }
 ],
 "metadata": {
  "kernelspec": {
   "display_name": "Python 3 (ipykernel)",
   "language": "python",
   "name": "python3"
  },
  "language_info": {
   "codemirror_mode": {
    "name": "ipython",
    "version": 3
   },
   "file_extension": ".py",
   "mimetype": "text/x-python",
   "name": "python",
   "nbconvert_exporter": "python",
   "pygments_lexer": "ipython3",
   "version": "3.10.4"
  }
 },
 "nbformat": 4,
 "nbformat_minor": 5
}
