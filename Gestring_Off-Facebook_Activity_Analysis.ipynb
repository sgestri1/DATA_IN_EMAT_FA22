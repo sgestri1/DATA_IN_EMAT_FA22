{
 "cells": [
  {
   "cell_type": "markdown",
   "id": "26a0b8c7",
   "metadata": {},
   "source": [
    "# Off-Facebook Activity Analysis Report\n",
    "\n",
    "## By Serena Gestring\n",
    "\n",
    "### November 23, 2022"
   ]
  },
  {
   "cell_type": "markdown",
   "id": "6b24a444",
   "metadata": {},
   "source": [
    "The entire purpose of collecting data is to conduct an analysis and draw conclusions from that analysis in order to make informed decisions for the future. This report is broken into two analyses for two different data sets. Those data sets were visualized in order to conduct the necessary analyses, because having a visual image is more helpful in being able to recognize trends, patterns, etc. that a person might not otherwise find by just looking at the raw data itself. Once analyses were made based on the visualizations, conclusions were documented. "
   ]
  },
  {
   "cell_type": "markdown",
   "id": "aefbbc0e",
   "metadata": {},
   "source": [
    "![](39-Smooth_cover.jpg)\n",
    "\n",
    "[Image Credit](https://en.wikipedia.org/wiki/File:Green_Day_-_39-Smooth_cover.jpg)"
   ]
  },
  {
   "cell_type": "markdown",
   "id": "31054c5e",
   "metadata": {},
   "source": [
    "## Part 1: Off-Facebook Data\n",
    "\n",
    "The first part of this report is looking at off-facebook activity, or data that Facebook collects from businesses and other organizations with which users have interacted/visited. This data is useful for Facebook to provide content they think will be interesting and engaging for users. The purpose of this analysis is to 1) determine what websites/apps are visited the most; 2) see what (if any) inferences we can make from the results; and 3) consider if the drawn conclusions could be inaccurate or incomplete. In essence, the driving question is, \"Could Facebook make valid or beneficial decisions based on this data?\" \n",
    "\n",
    "This is not my personal Facebook data as I do not have a Facebook account; rather, this is my instructor's data. While I cannot make a very informed guess as to what websites and apps might be present in the data, based on what we have talked about in class and the fact my instructor is a Kent State University employee, I am guessing that Spotify, Twitter, and one or more KSU-related websites will be present in the data. "
   ]
  },
  {
   "cell_type": "markdown",
   "id": "1d65faec",
   "metadata": {},
   "source": [
    "First, I imported all of the packages necessary for collecting, wrangling, and visualizing data. Then I loaded in the data file that I am looking to analyze for this first part of the report. "
   ]
  },
  {
   "cell_type": "code",
   "execution_count": 1,
   "id": "99e2d5a6",
   "metadata": {},
   "outputs": [],
   "source": [
    "import pandas as pd\n",
    "import json\n",
    "import requests\n",
    "import base64\n",
    "from matplotlib import pyplot as plt\n",
    "from scipy import stats\n",
    "import numpy as np"
   ]
  },
  {
   "cell_type": "code",
   "execution_count": 2,
   "id": "c01aab64",
   "metadata": {},
   "outputs": [],
   "source": [
    "with open(r'C:\\Users\\Serena\\EMAT22110_FA22\\facebook-davidsilva100046_year-toshare\\facebook-davidsilva100046_year-to_share\\apps_and_websites_off_of_facebook\\your_off-facebook_activity.json') as o:\n",
    "    ofa_data = json.load(o)"
   ]
  },
  {
   "cell_type": "markdown",
   "id": "ee3bc5d7",
   "metadata": {},
   "source": [
    "I loaded that data into an initial data frame. Then I used the len() function to count the number of items in the 'events' list so that that information could be added to the data frame in a more readable way. Then I used the groupby() and count() methods in order to show how many logged counts each individual website/app had (rather than each count being its own row like in the initial data frame). "
   ]
  },
  {
   "cell_type": "code",
   "execution_count": 3,
   "id": "bc4e3f89",
   "metadata": {},
   "outputs": [],
   "source": [
    "ofa_data_df = pd.DataFrame(ofa_data['off_facebook_activity_v2'])\n",
    "events = [len(x) for x in ofa_data_df['events']]\n",
    "final_ofa_df = ofa_data_df.groupby(['name']).count()\n",
    "final_ofa_df['events'] = events"
   ]
  },
  {
   "cell_type": "markdown",
   "id": "6def1111",
   "metadata": {},
   "source": [
    "Finally, I sorted the dataframe to list the names in order from the most counts to least counts. The top 20 are listed below. "
   ]
  },
  {
   "cell_type": "code",
   "execution_count": 4,
   "id": "ccb62a69",
   "metadata": {
    "scrolled": true
   },
   "outputs": [
    {
     "data": {
      "text/html": [
       "<div>\n",
       "<style scoped>\n",
       "    .dataframe tbody tr th:only-of-type {\n",
       "        vertical-align: middle;\n",
       "    }\n",
       "\n",
       "    .dataframe tbody tr th {\n",
       "        vertical-align: top;\n",
       "    }\n",
       "\n",
       "    .dataframe thead th {\n",
       "        text-align: right;\n",
       "    }\n",
       "</style>\n",
       "<table border=\"1\" class=\"dataframe\">\n",
       "  <thead>\n",
       "    <tr style=\"text-align: right;\">\n",
       "      <th></th>\n",
       "      <th>events</th>\n",
       "    </tr>\n",
       "    <tr>\n",
       "      <th>name</th>\n",
       "      <th></th>\n",
       "    </tr>\n",
       "  </thead>\n",
       "  <tbody>\n",
       "    <tr>\n",
       "      <th>Oracle Corporate</th>\n",
       "      <td>838</td>\n",
       "    </tr>\n",
       "    <tr>\n",
       "      <th>500px.com</th>\n",
       "      <td>631</td>\n",
       "    </tr>\n",
       "    <tr>\n",
       "      <th>honda.com</th>\n",
       "      <td>125</td>\n",
       "    </tr>\n",
       "    <tr>\n",
       "      <th>Spotify: Spotify: Music and Podcasts</th>\n",
       "      <td>118</td>\n",
       "    </tr>\n",
       "    <tr>\n",
       "      <th>AirDroid: Remote access &amp; File</th>\n",
       "      <td>84</td>\n",
       "    </tr>\n",
       "    <tr>\n",
       "      <th>gapfactory.com</th>\n",
       "      <td>53</td>\n",
       "    </tr>\n",
       "    <tr>\n",
       "      <th>Allstate</th>\n",
       "      <td>51</td>\n",
       "    </tr>\n",
       "    <tr>\n",
       "      <th>knowyourmeme.com</th>\n",
       "      <td>46</td>\n",
       "    </tr>\n",
       "    <tr>\n",
       "      <th>hondafinancialservices.com</th>\n",
       "      <td>40</td>\n",
       "    </tr>\n",
       "    <tr>\n",
       "      <th>freep.com</th>\n",
       "      <td>39</td>\n",
       "    </tr>\n",
       "    <tr>\n",
       "      <th>aba.com</th>\n",
       "      <td>32</td>\n",
       "    </tr>\n",
       "    <tr>\n",
       "      <th>menswearhouse.com</th>\n",
       "      <td>29</td>\n",
       "    </tr>\n",
       "    <tr>\n",
       "      <th>womansday.com</th>\n",
       "      <td>29</td>\n",
       "    </tr>\n",
       "    <tr>\n",
       "      <th>huffingtonpost.in</th>\n",
       "      <td>26</td>\n",
       "    </tr>\n",
       "    <tr>\n",
       "      <th>bannerhealth.com</th>\n",
       "      <td>24</td>\n",
       "    </tr>\n",
       "    <tr>\n",
       "      <th>alaskaair.com</th>\n",
       "      <td>22</td>\n",
       "    </tr>\n",
       "    <tr>\n",
       "      <th>Fitbit</th>\n",
       "      <td>22</td>\n",
       "    </tr>\n",
       "    <tr>\n",
       "      <th>REDBOX: Rent, Stream &amp; Buy</th>\n",
       "      <td>21</td>\n",
       "    </tr>\n",
       "    <tr>\n",
       "      <th>cars.com</th>\n",
       "      <td>18</td>\n",
       "    </tr>\n",
       "    <tr>\n",
       "      <th>gadgethacks.com</th>\n",
       "      <td>17</td>\n",
       "    </tr>\n",
       "  </tbody>\n",
       "</table>\n",
       "</div>"
      ],
      "text/plain": [
       "                                      events\n",
       "name                                        \n",
       "Oracle Corporate                         838\n",
       "500px.com                                631\n",
       "honda.com                                125\n",
       "Spotify: Spotify: Music and Podcasts     118\n",
       "AirDroid: Remote access & File            84\n",
       "gapfactory.com                            53\n",
       "Allstate                                  51\n",
       "knowyourmeme.com                          46\n",
       "hondafinancialservices.com                40\n",
       "freep.com                                 39\n",
       "aba.com                                   32\n",
       "menswearhouse.com                         29\n",
       "womansday.com                             29\n",
       "huffingtonpost.in                         26\n",
       "bannerhealth.com                          24\n",
       "alaskaair.com                             22\n",
       "Fitbit                                    22\n",
       "REDBOX: Rent, Stream & Buy                21\n",
       "cars.com                                  18\n",
       "gadgethacks.com                           17"
      ]
     },
     "execution_count": 4,
     "metadata": {},
     "output_type": "execute_result"
    }
   ],
   "source": [
    "final_ofa_df.sort_values('events', ascending=False).head(20)"
   ]
  },
  {
   "cell_type": "markdown",
   "id": "e5aa261e",
   "metadata": {},
   "source": [
    "![](Insomniac.jpg)\n",
    "\n",
    "[Image Credit](https://en.wikipedia.org/wiki/File:Green_Day_Insomiac.jpg)"
   ]
  },
  {
   "cell_type": "markdown",
   "id": "feebda69",
   "metadata": {},
   "source": [
    "From this data, I created a histogram that visualizes the frequency of the logged counts (meaning how many websites/apps had counts that were in a specified value range). The histogram below includes all of the data in the data frame. However, because the values \"838\" and \"631\" are far removed from where the rest of the data is, the graph below does not provide much detail. Trying to add more bins did not help the visualization. I decided to keep this graph to show the complete data even though it is not very helpful because I did not want it to look like I was trying to manipulate the data results. The next graphs are simply an attempt to get a closer and more detailed look at the data. "
   ]
  },
  {
   "cell_type": "code",
   "execution_count": 5,
   "id": "b4dc2755",
   "metadata": {},
   "outputs": [
    {
     "data": {
      "image/png": "[encoded data removed]",
      "text/plain": [
       "<Figure size 720x288 with 1 Axes>"
      ]
     },
     "metadata": {
      "needs_background": "light"
     },
     "output_type": "display_data"
    }
   ],
   "source": [
    "fig1, ax1 = plt.subplots()\n",
    "fig1.set_figwidth(10)\n",
    "ax1.hist(final_ofa_df['events'], bins = 20)\n",
    "ax1.set_xlabel('Counts')\n",
    "ax1.set_ylabel('Frequency')\n",
    "ax1.set_title('Frequency of Off-Facebook Websites')\n",
    "plt.show()"
   ]
  },
  {
   "cell_type": "markdown",
   "id": "48da77bd",
   "metadata": {},
   "source": [
    "The three graphs below are basically \"zoomed in\" visualizations of the counts data. The first graph shows the logged counts with a frequency less than 200, but again that visualization is still not very helpful. The second graph shows the logged counts with a frequency less than 70, and it is starting to get more detailed but I wanted to look even closer. The third graph shows the logged counts with a frequency less than 20. The first two graphs tell me that most of the counts are less than 20, but the third graph gives me a better picture of that breakdown so that I can see that the majority of those counts are actually 1 or 2. I would not have learned that from any of the other graphs.  "
   ]
  },
  {
   "cell_type": "code",
   "execution_count": 9,
   "id": "20f6f23b",
   "metadata": {},
   "outputs": [
    {
     "data": {
      "image/png": "[encoded data removed]",
      "text/plain": [
       "<Figure size 360x720 with 3 Axes>"
      ]
     },
     "metadata": {
      "needs_background": "light"
     },
     "output_type": "display_data"
    }
   ],
   "source": [
    "fig1, ax1 = plt.subplots(3, 1, layout = 'constrained')\n",
    "fig1.set_figwidth(5)\n",
    "fig1.set_figheight(10)\n",
    "ax1[0].set_xlabel('Counts')\n",
    "ax1[0].set_ylabel('Frequency')\n",
    "ax1[0].set_title('Frequency of Off-Facebook Websites with < 200 Counts')\n",
    "ax1[0].hist(final_ofa_df[final_ofa_df['events'] < 200]['events'], bins = 10)\n",
    "ax1[1].set_xlabel('Counts')\n",
    "ax1[1].set_ylabel('Frequency')\n",
    "ax1[1].set_title('Frequency of Off-Facebook Websites with < 70 Counts')\n",
    "ax1[1].hist(final_ofa_df[final_ofa_df['events'] < 70]['events'], bins = 20)\n",
    "ax1[2].set_xlabel('Counts')\n",
    "ax1[2].set_ylabel('Frequency')\n",
    "ax1[2].set_title('Frequency of Off-Facebook Websites with < 20 Counts')\n",
    "ax1[2].hist(final_ofa_df[final_ofa_df['events'] < 20]['events'], bins = 20)\n",
    "plt.show()"
   ]
  },
  {
   "cell_type": "markdown",
   "id": "f9e1f4af",
   "metadata": {},
   "source": [
    "The histograms show that while there are a few websites/apps that had logged count values above 60, the majority of counts had a frequency less than 20, with many of those websites/apps only having logged counts of 1 or 2. This suggests that only a couple of websites/app are prominent/important in my instructor's digital activity, while some are not as prominent and most are not very important."
   ]
  },
  {
   "cell_type": "markdown",
   "id": "f48d4765",
   "metadata": {},
   "source": [
    "![](Nimrod.jpg)\n",
    "\n",
    "[Image Credit](https://en.wikipedia.org/wiki/File:Green_Day_-_Nimrod_cover.jpg)"
   ]
  },
  {
   "cell_type": "markdown",
   "id": "68e0c477",
   "metadata": {},
   "source": [
    "The next step in analyzing this data is to see which specific websites/apps are being logged the most. To do this, I created a bar graph visualizing the top 20 most logged websites/apps and their counts. I tried to stretch the graph out as far as I could to make the labels readable, but I could only go so far. "
   ]
  },
  {
   "cell_type": "code",
   "execution_count": 10,
   "id": "9344eb10",
   "metadata": {},
   "outputs": [
    {
     "data": {
      "image/png": "[encoded data removed]",
      "text/plain": [
       "<Figure size 1800x288 with 1 Axes>"
      ]
     },
     "metadata": {
      "needs_background": "light"
     },
     "output_type": "display_data"
    }
   ],
   "source": [
    "fig2, ax2 = plt.subplots(layout = 'constrained')\n",
    "fig2.set_figwidth(25)\n",
    "ax2.set_title('Top 20 Websites/Apps by Logged Counts')\n",
    "ax2.set_xlabel('Name of Website/App')\n",
    "ax2.set_ylabel('Number of Logged Counts')\n",
    "names = ['Oracle Corporate', '500px.com', 'honda.com', 'Spotify', 'AirDroid', 'gapfactory.com', 'Allstate', 'knowyourmeme.com', 'hondafinancialservices.com', 'freep.com', 'aba.com', 'menswearhouse.com', 'womansday.com', 'huffingtonpost.in', 'bannerhealth.com', 'alaskaair.com', 'Fitbit', 'REDBOX', 'cars.com', 'gadgethacks.com']\n",
    "counts = [838, 631, 125, 118, 84, 53, 51, 46, 40, 39, 32, 29, 29, 26, 24, 22, 22, 21, 18, 17]\n",
    "ax2.bar(names, counts)\n",
    "plt.show()"
   ]
  },
  {
   "cell_type": "markdown",
   "id": "a88cd285",
   "metadata": {},
   "source": [
    "The bar plot specifically shows which websites/apps have the highest logged counts. This visualization shows that Oracle Corporate is probably the most important websites in my instructor's digital activity since it has the highest counts, and this would make sense due to since his job is working with data. 500px.com is the website with the second highest counts, which would suggest that website it also quite important, but I do not know my instructor well enough to guess why.  \n",
    "\n",
    "Facebook itself could make a few different conclusions based on this data. First, they could infer that this user is heavily interested in data-related content and photography-related content, and therefore should provide similar content to those top websites to possibly prompt more engagement. Facebook could also try to provide more content from some of the less prominent websites/apps because the user showed at least minimal interest in those to have logged in at least once, so perhaps he could be influenced to visit again. \n",
    "\n",
    "This conclusion may or may not be accurate, firstly because my understanding is that this data was given to Facebook by these companies (e.g. Oracle Corporate told Facebook this user logged in to their website 838 times). Therefore, it is possible that some or even many of the websites/apps that my instructor utilizes does not have a contract/agreement to share that information with Facebook, meaning this data is incomplete, and therefore not necessarily reliable because the full picture may not be being provided in the visualizations above. With that being said, the strategies given in the previous paragraph could still be implemented with the specific websites/apps that are provided in the data. If Facebook finds their efforts are not proving to be fruitful, then a next step (though this would obviously be a major and possibly lengthy step only justified if they are having this same issue with multiple users) would be to create agreements with more businesses and organizations to collect their users' data so that a better picture can be created for each user.   "
   ]
  },
  {
   "cell_type": "markdown",
   "id": "d26779f8",
   "metadata": {},
   "source": [
    "![](Warning.jpg)\n",
    "\n",
    "[Image Credit](https://en.wikipedia.org/wiki/File:Green_Day_-_Warning_cover.jpg)"
   ]
  },
  {
   "cell_type": "markdown",
   "id": "f9d572a3",
   "metadata": {},
   "source": [
    "## Part 2: Spotify Data"
   ]
  },
  {
   "cell_type": "markdown",
   "id": "bcd36275",
   "metadata": {},
   "source": [
    "The second part of this report is looking at two different albums and comparing their audio features. Comparing audio features of different albums/artists/genres can be used to answer a wide variety of questions. For this specific report, I am looking at Green Day's 2004 album \"American Idiot\" and their 2009 album \"21st Century Breakdown.\" Both of these albums are considered rock operas (\"American Idiot\" was even adapted into a musical), and since these were released one right after another, I thought it would be interesting to compare the two and see how similar or different they are. Therefore the driving question is, \"How do the consecutive rock operas 'American Idiot' and '21st Century Breakdown' compare to each other and does that say anything about Green Day's musical/artistic ability?\"\n",
    "\n",
    "I have been listening to Green Day my entire life, and while many songs from across their discography have deeply resonated with me, these two albums hold a special place in my heart, in part because of their stories and also because of the music itself. I will be the first to admit a lot of Green Day's songs have a similar sound, but I think these albums are pretty unique. I have been listening to them for so long that now every time I do it feels like coming home."
   ]
  },
  {
   "cell_type": "markdown",
   "id": "0189712b",
   "metadata": {},
   "source": [
    "I collected data on these two albums through Spotify. First, I had to upload my Spotify Keys that grant me access to the Spotify API. "
   ]
  },
  {
   "cell_type": "code",
   "execution_count": 11,
   "id": "fd4dca2d",
   "metadata": {},
   "outputs": [],
   "source": [
    "keys = pd.read_csv(\"Spotify_Keys_10-18-22.txt\", header = 0, sep = \",\")\n",
    "appid = keys['Client_ID'][0]\n",
    "appsecret = keys['Client_Secret'][0]"
   ]
  },
  {
   "cell_type": "code",
   "execution_count": 12,
   "id": "3c8e256f",
   "metadata": {},
   "outputs": [],
   "source": [
    "client_cred = base64.b64encode(str(appid + \":\" + appsecret).encode('ascii'))\n",
    "header = {'Authorization': 'Basic {}'.format(client_cred.decode('ascii'))}\n",
    "payload = {'grant_type' : 'client_credentials'}\n",
    "access_token_url = \"https://accounts.spotify.com/api/token\""
   ]
  },
  {
   "cell_type": "code",
   "execution_count": 13,
   "id": "c48b4825",
   "metadata": {},
   "outputs": [],
   "source": [
    "response = requests.post(access_token_url, headers = header, data = payload)\n",
    "session_token = response.json()['access_token']\n",
    "session_header = {'Authorization': 'Bearer {}'.format(response.json()['access_token'])}"
   ]
  },
  {
   "cell_type": "markdown",
   "id": "3fb15cf3",
   "metadata": {},
   "source": [
    "Once I had proven my authorization, I used the Album Tracks Endpoint in order to retrieve the track data from the \"American Idiot\" album (abbreviated as \"ai\"). I printed the status code to know that this worked correctly. "
   ]
  },
  {
   "cell_type": "code",
   "execution_count": 14,
   "id": "b74d3b12",
   "metadata": {},
   "outputs": [
    {
     "name": "stdout",
     "output_type": "stream",
     "text": [
      "200\n"
     ]
    }
   ],
   "source": [
    "ai_id = '5dN7F9DV0Qg1XRdIgW8rke'\n",
    "album_tracks_endpoint = \"https://api.spotify.com/v1/albums/{}/tracks\".format(ai_id)\n",
    "ai_tracks = requests.get(album_tracks_endpoint, headers = session_header)\n",
    "print(ai_tracks.status_code)"
   ]
  },
  {
   "cell_type": "markdown",
   "id": "b0c06e17",
   "metadata": {},
   "source": [
    "Then I created a string of the track ids. I accessed the Track Features Endpoint using that string of ids to get the audio features for the tracks on the \"American Idiot\" album. I printed the status code to know this worked correctly as well. "
   ]
  },
  {
   "cell_type": "code",
   "execution_count": 15,
   "id": "2ec3ffd1",
   "metadata": {},
   "outputs": [
    {
     "name": "stdout",
     "output_type": "stream",
     "text": [
      "200\n"
     ]
    }
   ],
   "source": [
    "ai_dict = json.loads(ai_tracks.text)\n",
    "ai_track_ids = [x['id'] for x in ai_dict['items']]\n",
    "ai_track_strings = ','.join(str(x) for x in ai_track_ids)\n",
    "track_features_endpoint = \"https://api.spotify.com/v1/audio-features?ids={}\".format(ai_track_strings)\n",
    "ai_features = requests.get(track_features_endpoint, headers = session_header)\n",
    "print(ai_features.status_code)"
   ]
  },
  {
   "cell_type": "markdown",
   "id": "86d3eb3e",
   "metadata": {},
   "source": [
    "I created a data frame for the audio features of \"American Idiot.\" "
   ]
  },
  {
   "cell_type": "code",
   "execution_count": 16,
   "id": "3a9352ce",
   "metadata": {},
   "outputs": [],
   "source": [
    "aif_dict = json.loads(ai_features.text)\n",
    "ai_df = pd.DataFrame(aif_dict['audio_features'])"
   ]
  },
  {
   "cell_type": "markdown",
   "id": "924536b9",
   "metadata": {},
   "source": [
    "![](American_Idiot.png)\n",
    "\n",
    "[Image Credit](https://en.wikipedia.org/wiki/File:Green_Day_-_American_Idiot_album_cover.png)"
   ]
  },
  {
   "cell_type": "markdown",
   "id": "4c7f2f6c",
   "metadata": {},
   "source": [
    "Then I repeated those exact steps with the \"21st Century Breakdown\" album (abbreviated as \"cb\"). "
   ]
  },
  {
   "cell_type": "code",
   "execution_count": 17,
   "id": "5db16a82",
   "metadata": {},
   "outputs": [
    {
     "name": "stdout",
     "output_type": "stream",
     "text": [
      "200\n"
     ]
    }
   ],
   "source": [
    "cb_id = '1AHZd3C3S8m8fFrhFxyk79'\n",
    "album_tracks_endpoint = \"https://api.spotify.com/v1/albums/{}/tracks\".format(cb_id)\n",
    "cb_tracks = requests.get(album_tracks_endpoint, headers = session_header)\n",
    "print(cb_tracks.status_code)"
   ]
  },
  {
   "cell_type": "code",
   "execution_count": 18,
   "id": "5164cadc",
   "metadata": {},
   "outputs": [
    {
     "name": "stdout",
     "output_type": "stream",
     "text": [
      "200\n"
     ]
    }
   ],
   "source": [
    "cb_dict = json.loads(cb_tracks.text)\n",
    "cb_track_ids = [x['id'] for x in cb_dict['items']]\n",
    "cb_track_strings = ','.join(str(x) for x in cb_track_ids)\n",
    "track_features_endpoint = \"https://api.spotify.com/v1/audio-features?ids={}\".format(cb_track_strings)\n",
    "cb_features = requests.get(track_features_endpoint, headers = session_header)\n",
    "print(cb_features.status_code)"
   ]
  },
  {
   "cell_type": "code",
   "execution_count": 19,
   "id": "57037143",
   "metadata": {},
   "outputs": [],
   "source": [
    "cbf_dict = json.loads(cb_features.text)\n",
    "cb_df = pd.DataFrame(cbf_dict['audio_features'])"
   ]
  },
  {
   "cell_type": "markdown",
   "id": "6b4a9c6e",
   "metadata": {},
   "source": [
    "Now that I have a data frame of the audio features for both \"American Idiot\" and \"21st Century Breakdown,\" I joined those data frames together using the concat() method. The first five items in the data frame and the last five items are provided below."
   ]
  },
  {
   "cell_type": "code",
   "execution_count": 20,
   "id": "5220ace1",
   "metadata": {},
   "outputs": [],
   "source": [
    "ai_df['album'] = ['american_idiot'] * len(ai_df.index)\n",
    "cb_df['album'] = ['century_breakdown'] * len(cb_df.index)\n",
    "audio_features = pd.concat([ai_df, cb_df])"
   ]
  },
  {
   "cell_type": "code",
   "execution_count": 21,
   "id": "122f7203",
   "metadata": {},
   "outputs": [
    {
     "data": {
      "text/html": [
       "<div>\n",
       "<style scoped>\n",
       "    .dataframe tbody tr th:only-of-type {\n",
       "        vertical-align: middle;\n",
       "    }\n",
       "\n",
       "    .dataframe tbody tr th {\n",
       "        vertical-align: top;\n",
       "    }\n",
       "\n",
       "    .dataframe thead th {\n",
       "        text-align: right;\n",
       "    }\n",
       "</style>\n",
       "<table border=\"1\" class=\"dataframe\">\n",
       "  <thead>\n",
       "    <tr style=\"text-align: right;\">\n",
       "      <th></th>\n",
       "      <th>danceability</th>\n",
       "      <th>energy</th>\n",
       "      <th>key</th>\n",
       "      <th>loudness</th>\n",
       "      <th>mode</th>\n",
       "      <th>speechiness</th>\n",
       "      <th>acousticness</th>\n",
       "      <th>instrumentalness</th>\n",
       "      <th>liveness</th>\n",
       "      <th>valence</th>\n",
       "      <th>tempo</th>\n",
       "      <th>type</th>\n",
       "      <th>id</th>\n",
       "      <th>uri</th>\n",
       "      <th>track_href</th>\n",
       "      <th>analysis_url</th>\n",
       "      <th>duration_ms</th>\n",
       "      <th>time_signature</th>\n",
       "      <th>album</th>\n",
       "    </tr>\n",
       "  </thead>\n",
       "  <tbody>\n",
       "    <tr>\n",
       "      <th>0</th>\n",
       "      <td>0.380</td>\n",
       "      <td>0.988</td>\n",
       "      <td>1</td>\n",
       "      <td>-2.042</td>\n",
       "      <td>1</td>\n",
       "      <td>0.0639</td>\n",
       "      <td>0.000026</td>\n",
       "      <td>0.000079</td>\n",
       "      <td>0.3680</td>\n",
       "      <td>0.769</td>\n",
       "      <td>186.113</td>\n",
       "      <td>audio_features</td>\n",
       "      <td>6nTiIhLmQ3FWhvrGafw2zj</td>\n",
       "      <td>spotify:track:6nTiIhLmQ3FWhvrGafw2zj</td>\n",
       "      <td>https://api.spotify.com/v1/tracks/6nTiIhLmQ3FW...</td>\n",
       "      <td>https://api.spotify.com/v1/audio-analysis/6nTi...</td>\n",
       "      <td>176346</td>\n",
       "      <td>4</td>\n",
       "      <td>american_idiot</td>\n",
       "    </tr>\n",
       "    <tr>\n",
       "      <th>1</th>\n",
       "      <td>0.300</td>\n",
       "      <td>0.929</td>\n",
       "      <td>1</td>\n",
       "      <td>-3.214</td>\n",
       "      <td>1</td>\n",
       "      <td>0.0636</td>\n",
       "      <td>0.000259</td>\n",
       "      <td>0.000002</td>\n",
       "      <td>0.3290</td>\n",
       "      <td>0.590</td>\n",
       "      <td>147.116</td>\n",
       "      <td>audio_features</td>\n",
       "      <td>58KPPL1AdLHMvR2O2PZejr</td>\n",
       "      <td>spotify:track:58KPPL1AdLHMvR2O2PZejr</td>\n",
       "      <td>https://api.spotify.com/v1/tracks/58KPPL1AdLHM...</td>\n",
       "      <td>https://api.spotify.com/v1/audio-analysis/58KP...</td>\n",
       "      <td>548253</td>\n",
       "      <td>4</td>\n",
       "      <td>american_idiot</td>\n",
       "    </tr>\n",
       "    <tr>\n",
       "      <th>2</th>\n",
       "      <td>0.290</td>\n",
       "      <td>0.827</td>\n",
       "      <td>8</td>\n",
       "      <td>-3.451</td>\n",
       "      <td>1</td>\n",
       "      <td>0.0362</td>\n",
       "      <td>0.000659</td>\n",
       "      <td>0.000003</td>\n",
       "      <td>0.3010</td>\n",
       "      <td>0.450</td>\n",
       "      <td>167.086</td>\n",
       "      <td>audio_features</td>\n",
       "      <td>0MsrWnxQZxPAcov7c74sSo</td>\n",
       "      <td>spotify:track:0MsrWnxQZxPAcov7c74sSo</td>\n",
       "      <td>https://api.spotify.com/v1/tracks/0MsrWnxQZxPA...</td>\n",
       "      <td>https://api.spotify.com/v1/audio-analysis/0Msr...</td>\n",
       "      <td>493400</td>\n",
       "      <td>4</td>\n",
       "      <td>american_idiot</td>\n",
       "    </tr>\n",
       "    <tr>\n",
       "      <th>3</th>\n",
       "      <td>0.276</td>\n",
       "      <td>0.909</td>\n",
       "      <td>9</td>\n",
       "      <td>-3.664</td>\n",
       "      <td>1</td>\n",
       "      <td>0.0618</td>\n",
       "      <td>0.000160</td>\n",
       "      <td>0.000005</td>\n",
       "      <td>0.0933</td>\n",
       "      <td>0.344</td>\n",
       "      <td>138.497</td>\n",
       "      <td>audio_features</td>\n",
       "      <td>5MqV2o7iLd0lNREZ7SYL05</td>\n",
       "      <td>spotify:track:5MqV2o7iLd0lNREZ7SYL05</td>\n",
       "      <td>https://api.spotify.com/v1/tracks/5MqV2o7iLd0l...</td>\n",
       "      <td>https://api.spotify.com/v1/audio-analysis/5MqV...</td>\n",
       "      <td>338147</td>\n",
       "      <td>4</td>\n",
       "      <td>american_idiot</td>\n",
       "    </tr>\n",
       "    <tr>\n",
       "      <th>4</th>\n",
       "      <td>0.312</td>\n",
       "      <td>0.949</td>\n",
       "      <td>9</td>\n",
       "      <td>-3.533</td>\n",
       "      <td>1</td>\n",
       "      <td>0.0784</td>\n",
       "      <td>0.001850</td>\n",
       "      <td>0.000018</td>\n",
       "      <td>0.0569</td>\n",
       "      <td>0.650</td>\n",
       "      <td>154.795</td>\n",
       "      <td>audio_features</td>\n",
       "      <td>11I3KKHv7g2pXiuqRDabRA</td>\n",
       "      <td>spotify:track:11I3KKHv7g2pXiuqRDabRA</td>\n",
       "      <td>https://api.spotify.com/v1/tracks/11I3KKHv7g2p...</td>\n",
       "      <td>https://api.spotify.com/v1/audio-analysis/11I3...</td>\n",
       "      <td>326200</td>\n",
       "      <td>4</td>\n",
       "      <td>american_idiot</td>\n",
       "    </tr>\n",
       "  </tbody>\n",
       "</table>\n",
       "</div>"
      ],
      "text/plain": [
       "   danceability  energy  key  loudness  mode  speechiness  acousticness  \\\n",
       "0         0.380   0.988    1    -2.042     1       0.0639      0.000026   \n",
       "1         0.300   0.929    1    -3.214     1       0.0636      0.000259   \n",
       "2         0.290   0.827    8    -3.451     1       0.0362      0.000659   \n",
       "3         0.276   0.909    9    -3.664     1       0.0618      0.000160   \n",
       "4         0.312   0.949    9    -3.533     1       0.0784      0.001850   \n",
       "\n",
       "   instrumentalness  liveness  valence    tempo            type  \\\n",
       "0          0.000079    0.3680    0.769  186.113  audio_features   \n",
       "1          0.000002    0.3290    0.590  147.116  audio_features   \n",
       "2          0.000003    0.3010    0.450  167.086  audio_features   \n",
       "3          0.000005    0.0933    0.344  138.497  audio_features   \n",
       "4          0.000018    0.0569    0.650  154.795  audio_features   \n",
       "\n",
       "                       id                                   uri  \\\n",
       "0  6nTiIhLmQ3FWhvrGafw2zj  spotify:track:6nTiIhLmQ3FWhvrGafw2zj   \n",
       "1  58KPPL1AdLHMvR2O2PZejr  spotify:track:58KPPL1AdLHMvR2O2PZejr   \n",
       "2  0MsrWnxQZxPAcov7c74sSo  spotify:track:0MsrWnxQZxPAcov7c74sSo   \n",
       "3  5MqV2o7iLd0lNREZ7SYL05  spotify:track:5MqV2o7iLd0lNREZ7SYL05   \n",
       "4  11I3KKHv7g2pXiuqRDabRA  spotify:track:11I3KKHv7g2pXiuqRDabRA   \n",
       "\n",
       "                                          track_href  \\\n",
       "0  https://api.spotify.com/v1/tracks/6nTiIhLmQ3FW...   \n",
       "1  https://api.spotify.com/v1/tracks/58KPPL1AdLHM...   \n",
       "2  https://api.spotify.com/v1/tracks/0MsrWnxQZxPA...   \n",
       "3  https://api.spotify.com/v1/tracks/5MqV2o7iLd0l...   \n",
       "4  https://api.spotify.com/v1/tracks/11I3KKHv7g2p...   \n",
       "\n",
       "                                        analysis_url  duration_ms  \\\n",
       "0  https://api.spotify.com/v1/audio-analysis/6nTi...       176346   \n",
       "1  https://api.spotify.com/v1/audio-analysis/58KP...       548253   \n",
       "2  https://api.spotify.com/v1/audio-analysis/0Msr...       493400   \n",
       "3  https://api.spotify.com/v1/audio-analysis/5MqV...       338147   \n",
       "4  https://api.spotify.com/v1/audio-analysis/11I3...       326200   \n",
       "\n",
       "   time_signature           album  \n",
       "0               4  american_idiot  \n",
       "1               4  american_idiot  \n",
       "2               4  american_idiot  \n",
       "3               4  american_idiot  \n",
       "4               4  american_idiot  "
      ]
     },
     "execution_count": 21,
     "metadata": {},
     "output_type": "execute_result"
    }
   ],
   "source": [
    "audio_features.head()"
   ]
  },
  {
   "cell_type": "code",
   "execution_count": 22,
   "id": "981d96eb",
   "metadata": {
    "scrolled": true
   },
   "outputs": [
    {
     "data": {
      "text/html": [
       "<div>\n",
       "<style scoped>\n",
       "    .dataframe tbody tr th:only-of-type {\n",
       "        vertical-align: middle;\n",
       "    }\n",
       "\n",
       "    .dataframe tbody tr th {\n",
       "        vertical-align: top;\n",
       "    }\n",
       "\n",
       "    .dataframe thead th {\n",
       "        text-align: right;\n",
       "    }\n",
       "</style>\n",
       "<table border=\"1\" class=\"dataframe\">\n",
       "  <thead>\n",
       "    <tr style=\"text-align: right;\">\n",
       "      <th></th>\n",
       "      <th>danceability</th>\n",
       "      <th>energy</th>\n",
       "      <th>key</th>\n",
       "      <th>loudness</th>\n",
       "      <th>mode</th>\n",
       "      <th>speechiness</th>\n",
       "      <th>acousticness</th>\n",
       "      <th>instrumentalness</th>\n",
       "      <th>liveness</th>\n",
       "      <th>valence</th>\n",
       "      <th>tempo</th>\n",
       "      <th>type</th>\n",
       "      <th>id</th>\n",
       "      <th>uri</th>\n",
       "      <th>track_href</th>\n",
       "      <th>analysis_url</th>\n",
       "      <th>duration_ms</th>\n",
       "      <th>time_signature</th>\n",
       "      <th>album</th>\n",
       "    </tr>\n",
       "  </thead>\n",
       "  <tbody>\n",
       "    <tr>\n",
       "      <th>13</th>\n",
       "      <td>0.456</td>\n",
       "      <td>0.993</td>\n",
       "      <td>9</td>\n",
       "      <td>-2.471</td>\n",
       "      <td>1</td>\n",
       "      <td>0.0594</td>\n",
       "      <td>0.000066</td>\n",
       "      <td>0.000601</td>\n",
       "      <td>0.297</td>\n",
       "      <td>0.684</td>\n",
       "      <td>142.966</td>\n",
       "      <td>audio_features</td>\n",
       "      <td>3Dl2gul5pJ5Ceh7ew5kvC9</td>\n",
       "      <td>spotify:track:3Dl2gul5pJ5Ceh7ew5kvC9</td>\n",
       "      <td>https://api.spotify.com/v1/tracks/3Dl2gul5pJ5C...</td>\n",
       "      <td>https://api.spotify.com/v1/audio-analysis/3Dl2...</td>\n",
       "      <td>194067</td>\n",
       "      <td>4</td>\n",
       "      <td>century_breakdown</td>\n",
       "    </tr>\n",
       "    <tr>\n",
       "      <th>14</th>\n",
       "      <td>0.471</td>\n",
       "      <td>0.964</td>\n",
       "      <td>2</td>\n",
       "      <td>-3.293</td>\n",
       "      <td>1</td>\n",
       "      <td>0.0467</td>\n",
       "      <td>0.000179</td>\n",
       "      <td>0.000000</td>\n",
       "      <td>0.541</td>\n",
       "      <td>0.847</td>\n",
       "      <td>156.014</td>\n",
       "      <td>audio_features</td>\n",
       "      <td>0c0ptxjRaqaxMM8gvSWCG0</td>\n",
       "      <td>spotify:track:0c0ptxjRaqaxMM8gvSWCG0</td>\n",
       "      <td>https://api.spotify.com/v1/tracks/0c0ptxjRaqax...</td>\n",
       "      <td>https://api.spotify.com/v1/audio-analysis/0c0p...</td>\n",
       "      <td>256627</td>\n",
       "      <td>4</td>\n",
       "      <td>century_breakdown</td>\n",
       "    </tr>\n",
       "    <tr>\n",
       "      <th>15</th>\n",
       "      <td>0.268</td>\n",
       "      <td>0.742</td>\n",
       "      <td>5</td>\n",
       "      <td>-4.939</td>\n",
       "      <td>1</td>\n",
       "      <td>0.0355</td>\n",
       "      <td>0.051800</td>\n",
       "      <td>0.000000</td>\n",
       "      <td>0.626</td>\n",
       "      <td>0.416</td>\n",
       "      <td>159.779</td>\n",
       "      <td>audio_features</td>\n",
       "      <td>64yrDBpcdwEdNY9loyEGbX</td>\n",
       "      <td>spotify:track:64yrDBpcdwEdNY9loyEGbX</td>\n",
       "      <td>https://api.spotify.com/v1/tracks/64yrDBpcdwEd...</td>\n",
       "      <td>https://api.spotify.com/v1/audio-analysis/64yr...</td>\n",
       "      <td>321093</td>\n",
       "      <td>4</td>\n",
       "      <td>century_breakdown</td>\n",
       "    </tr>\n",
       "    <tr>\n",
       "      <th>16</th>\n",
       "      <td>0.256</td>\n",
       "      <td>0.955</td>\n",
       "      <td>2</td>\n",
       "      <td>-3.605</td>\n",
       "      <td>1</td>\n",
       "      <td>0.1450</td>\n",
       "      <td>0.010800</td>\n",
       "      <td>0.000000</td>\n",
       "      <td>0.565</td>\n",
       "      <td>0.660</td>\n",
       "      <td>176.941</td>\n",
       "      <td>audio_features</td>\n",
       "      <td>2DSgsIY3ZCjx7DhMNRzsSS</td>\n",
       "      <td>spotify:track:2DSgsIY3ZCjx7DhMNRzsSS</td>\n",
       "      <td>https://api.spotify.com/v1/tracks/2DSgsIY3ZCjx...</td>\n",
       "      <td>https://api.spotify.com/v1/audio-analysis/2DSg...</td>\n",
       "      <td>266107</td>\n",
       "      <td>4</td>\n",
       "      <td>century_breakdown</td>\n",
       "    </tr>\n",
       "    <tr>\n",
       "      <th>17</th>\n",
       "      <td>0.305</td>\n",
       "      <td>0.961</td>\n",
       "      <td>1</td>\n",
       "      <td>-4.107</td>\n",
       "      <td>1</td>\n",
       "      <td>0.0498</td>\n",
       "      <td>0.000115</td>\n",
       "      <td>0.000015</td>\n",
       "      <td>0.210</td>\n",
       "      <td>0.367</td>\n",
       "      <td>140.287</td>\n",
       "      <td>audio_features</td>\n",
       "      <td>5bUXuNEIxQbX6sTiP43z5H</td>\n",
       "      <td>spotify:track:5bUXuNEIxQbX6sTiP43z5H</td>\n",
       "      <td>https://api.spotify.com/v1/tracks/5bUXuNEIxQbX...</td>\n",
       "      <td>https://api.spotify.com/v1/audio-analysis/5bUX...</td>\n",
       "      <td>275933</td>\n",
       "      <td>4</td>\n",
       "      <td>century_breakdown</td>\n",
       "    </tr>\n",
       "  </tbody>\n",
       "</table>\n",
       "</div>"
      ],
      "text/plain": [
       "    danceability  energy  key  loudness  mode  speechiness  acousticness  \\\n",
       "13         0.456   0.993    9    -2.471     1       0.0594      0.000066   \n",
       "14         0.471   0.964    2    -3.293     1       0.0467      0.000179   \n",
       "15         0.268   0.742    5    -4.939     1       0.0355      0.051800   \n",
       "16         0.256   0.955    2    -3.605     1       0.1450      0.010800   \n",
       "17         0.305   0.961    1    -4.107     1       0.0498      0.000115   \n",
       "\n",
       "    instrumentalness  liveness  valence    tempo            type  \\\n",
       "13          0.000601     0.297    0.684  142.966  audio_features   \n",
       "14          0.000000     0.541    0.847  156.014  audio_features   \n",
       "15          0.000000     0.626    0.416  159.779  audio_features   \n",
       "16          0.000000     0.565    0.660  176.941  audio_features   \n",
       "17          0.000015     0.210    0.367  140.287  audio_features   \n",
       "\n",
       "                        id                                   uri  \\\n",
       "13  3Dl2gul5pJ5Ceh7ew5kvC9  spotify:track:3Dl2gul5pJ5Ceh7ew5kvC9   \n",
       "14  0c0ptxjRaqaxMM8gvSWCG0  spotify:track:0c0ptxjRaqaxMM8gvSWCG0   \n",
       "15  64yrDBpcdwEdNY9loyEGbX  spotify:track:64yrDBpcdwEdNY9loyEGbX   \n",
       "16  2DSgsIY3ZCjx7DhMNRzsSS  spotify:track:2DSgsIY3ZCjx7DhMNRzsSS   \n",
       "17  5bUXuNEIxQbX6sTiP43z5H  spotify:track:5bUXuNEIxQbX6sTiP43z5H   \n",
       "\n",
       "                                           track_href  \\\n",
       "13  https://api.spotify.com/v1/tracks/3Dl2gul5pJ5C...   \n",
       "14  https://api.spotify.com/v1/tracks/0c0ptxjRaqax...   \n",
       "15  https://api.spotify.com/v1/tracks/64yrDBpcdwEd...   \n",
       "16  https://api.spotify.com/v1/tracks/2DSgsIY3ZCjx...   \n",
       "17  https://api.spotify.com/v1/tracks/5bUXuNEIxQbX...   \n",
       "\n",
       "                                         analysis_url  duration_ms  \\\n",
       "13  https://api.spotify.com/v1/audio-analysis/3Dl2...       194067   \n",
       "14  https://api.spotify.com/v1/audio-analysis/0c0p...       256627   \n",
       "15  https://api.spotify.com/v1/audio-analysis/64yr...       321093   \n",
       "16  https://api.spotify.com/v1/audio-analysis/2DSg...       266107   \n",
       "17  https://api.spotify.com/v1/audio-analysis/5bUX...       275933   \n",
       "\n",
       "    time_signature              album  \n",
       "13               4  century_breakdown  \n",
       "14               4  century_breakdown  \n",
       "15               4  century_breakdown  \n",
       "16               4  century_breakdown  \n",
       "17               4  century_breakdown  "
      ]
     },
     "execution_count": 22,
     "metadata": {},
     "output_type": "execute_result"
    }
   ],
   "source": [
    "audio_features.tail()"
   ]
  },
  {
   "cell_type": "markdown",
   "id": "5737c14e",
   "metadata": {},
   "source": [
    "![](Century_Breakdown.jpg)\n",
    "\n",
    "[Image Credit](https://en.wikipedia.org/wiki/File:Green_Day_-_21st_Century_Breakdown_cover.jpg) "
   ]
  },
  {
   "cell_type": "markdown",
   "id": "b87180fd",
   "metadata": {},
   "source": [
    "I chose to analyze each albums' energy ratings (measure of intensity and activity, such as fast/loud/noisy) and valence ratings (musical positiveness, such as happy/cheerful or depressed/angry). To me, both of these albums are exciting and energetic for the most part, but also deal with some heavy topics, so I wanted to see how those two features compared to each other and between albums. \n",
    "\n",
    "First I created two histograms. The first compares the energy ratings between the albums, and the second compares the valence ratings between the albums. "
   ]
  },
  {
   "cell_type": "code",
   "execution_count": 23,
   "id": "9e018dd5",
   "metadata": {},
   "outputs": [
    {
     "data": {
      "image/png": "[encoded data removed]",
      "text/plain": [
       "<Figure size 432x576 with 2 Axes>"
      ]
     },
     "metadata": {
      "needs_background": "light"
     },
     "output_type": "display_data"
    }
   ],
   "source": [
    "fig1, ax1 = plt.subplots(2, 1, layout = 'constrained')\n",
    "fig1.set_figheight(8)\n",
    "ai_e = audio_features[audio_features['album'] == 'american_idiot']['energy']\n",
    "cb_e = audio_features[audio_features['album'] == 'century_breakdown']['energy']\n",
    "ai_v = audio_features[audio_features['album'] == 'american_idiot']['valence']\n",
    "cb_v = audio_features[audio_features['album'] == 'century_breakdown']['valence']\n",
    "ax1[0].hist(ai_e, alpha = 0.5, color = 'blue', label = 'American Idiot')\n",
    "ax1[0].hist(cb_e, alpha = 0.5, color = 'green', label = '21st Century Breakdown')\n",
    "ax1[0].legend()\n",
    "ax1[0].set_xlabel('Energy Rating')\n",
    "ax1[0].set_ylabel('Number of Tracks')\n",
    "ax1[0].set_title('Energy Rating of American Idiot vs 21st Century Breakdown')\n",
    "ax1[1].hist(ai_v, alpha = 0.5, color = 'blue', label = 'American Idiot')\n",
    "ax1[1].hist(cb_v, alpha = 0.5, color = 'green', label = '21st Century Breakdown')\n",
    "ax1[1].legend()\n",
    "ax1[1].set_xlabel('Valence Rating')\n",
    "ax1[1].set_ylabel('Number of Tracks')\n",
    "ax1[1].set_title('Valence Rating of American Idiot vs 21st Century Breakdown')\n",
    "plt.show()"
   ]
  },
  {
   "cell_type": "markdown",
   "id": "60a0e0c1",
   "metadata": {},
   "source": [
    "The first histogram shows that the majority of songs on both albums have a really high energy, which did not surprise me, and \"American Idiot\" has one song of a lower energy compared to the rest on that album, while \"21st Century Breakdown\" has two songs of a much lower energy compared to the rest on that album. Again, I think this makes sense for the genre of music these albums fit under.  \n",
    "\n",
    "The second histogram also has a lot of overlap and there is a decent spread for both. Both albums peak around the 0.45 valence rating, meaning more songs are kind of sad/angry, with a few that are lower and with some that are happier. \"21st Century Breakdown\" does seem to have more songs that have a higher valence rating (above 0.8), meaning more songs have happier content, and \"American Idiot\" has one song with the lowest valence rating of all at just less than 0.2, meaning that song is particularly depressing. \n",
    "\n",
    "Overall it looks like these albums' energy and valence are pretty similar, which could have to do with their punk rock music genre or also the fact that both story lines are more or less about the same topics (American politics, particularly in regard to George W. Bush's presidency). "
   ]
  },
  {
   "cell_type": "markdown",
   "id": "8b65642e",
   "metadata": {},
   "source": [
    "![](Uno.jpg)\n",
    "\n",
    "[Image Credit](https://en.wikipedia.org/wiki/File:Green_Day_-_Uno!_cover.jpg)"
   ]
  },
  {
   "cell_type": "markdown",
   "id": "5bead439",
   "metadata": {},
   "source": [
    "Next I looked at the relationships between energy and valence for \"American Idiot\" and \"21st Century Breakdown\" separately and then together, for a total of three scatter plots. "
   ]
  },
  {
   "cell_type": "code",
   "execution_count": 24,
   "id": "ab2a4cfe",
   "metadata": {},
   "outputs": [
    {
     "data": {
      "image/png": "[encoded data removed]",
      "text/plain": [
       "<Figure size 432x720 with 3 Axes>"
      ]
     },
     "metadata": {
      "needs_background": "light"
     },
     "output_type": "display_data"
    }
   ],
   "source": [
    "fig1, ax1 = plt.subplots(3, 1, layout = 'constrained')\n",
    "fig1.set_figheight(10)\n",
    "ai_data = audio_features[audio_features['album'] == 'american_idiot']\n",
    "ax1[0].scatter(ai_data['energy'], ai_data['valence'], color = 'green')\n",
    "ax1[0].set_xlabel('Energy')\n",
    "ax1[0].set_ylabel('Valence')\n",
    "ax1[0].set_title('Relationsip between Energy and Valence for American Idiot')\n",
    "cb_data = audio_features[audio_features['album'] == 'century_breakdown']\n",
    "ax1[1].scatter(cb_data['energy'], cb_data['valence'], color = 'blue')\n",
    "ax1[1].set_xlabel('Energy')\n",
    "ax1[1].set_ylabel('Valence')\n",
    "ax1[1].set_title('Relationsip between Energy and Valence for 21st Century Breakdown')\n",
    "ax1[2].scatter(cb_data['energy'], cb_data['valence'], color = 'blue', alpha = 0.5)\n",
    "ax1[2].scatter(ai_data['energy'], ai_data['valence'], color = 'green', alpha = 0.5)\n",
    "ax1[2].set_xlabel('Energy')\n",
    "ax1[2].set_ylabel('Valence')\n",
    "ax1[2].set_title('Relationsip between Energy and Valence for American Idiot vs 21st Century Breakdown')\n",
    "plt.show()"
   ]
  },
  {
   "cell_type": "markdown",
   "id": "87c2ba49",
   "metadata": {},
   "source": [
    "The first two scatter plots both show that the energy tends to be higher while there is a wide range in valence, which is true for both albums. The similarities are even more evident when looking at the third scatter plot. There are only a few outliers. This confirms the similarities that were gleaned from the histograms. "
   ]
  },
  {
   "cell_type": "markdown",
   "id": "5879477e",
   "metadata": {},
   "source": [
    "Finally, I created a boxplot to analyze and compare the danceability between albums (how \"danceable\" the tracks are). I personally do not dance very much, so I thought it would be interesting to see how two of my favorite albums from one of my favorite bands ranked in terms of danceability. Then I tested for statistical differences using the ttest_ind() function."
   ]
  },
  {
   "cell_type": "code",
   "execution_count": 25,
   "id": "81540830",
   "metadata": {
    "scrolled": true
   },
   "outputs": [
    {
     "data": {
      "image/png": "[encoded data removed]",
      "text/plain": [
       "<Figure size 432x288 with 1 Axes>"
      ]
     },
     "metadata": {
      "needs_background": "light"
     },
     "output_type": "display_data"
    }
   ],
   "source": [
    "fig1, ax1 = plt.subplots()\n",
    "ai_dance = audio_features[audio_features['album'] == 'american_idiot']['danceability']\n",
    "cb_dance = audio_features[audio_features['album'] == 'century_breakdown']['danceability']\n",
    "ai_x = [1] * len(ai_dance)\n",
    "cb_x = [2] * len(cb_dance)\n",
    "ai_x_jitter = np.random.uniform(-0.10, 0.10, len(ai_x))\n",
    "cb_x_jitter = np.random.uniform(-0.10, 0.10, len(cb_x))\n",
    "ax1.scatter(ai_x + ai_x_jitter, ai_dance, alpha = 0.5)\n",
    "ax1.scatter(cb_x + cb_x_jitter, cb_dance, alpha = 0.5)\n",
    "ax1.boxplot([ai_dance, cb_dance])\n",
    "ax1.set_xticks([1,2], ['American Idiot', '21st Century Breakdown'])\n",
    "ax1.set_ylabel('Danceability Rating')\n",
    "ax1.set_title('Danceability Rating of American Idiot vs 21st Century Breakdown')\n",
    "plt.show()"
   ]
  },
  {
   "cell_type": "code",
   "execution_count": 26,
   "id": "27eadcd4",
   "metadata": {},
   "outputs": [
    {
     "data": {
      "text/plain": [
       "Ttest_indResult(statistic=-0.3030170405793504, pvalue=0.7643840373730302)"
      ]
     },
     "execution_count": 26,
     "metadata": {},
     "output_type": "execute_result"
    }
   ],
   "source": [
    "ai_dance = audio_features[audio_features['album'] == 'american_idiot']['danceability']\n",
    "cb_dance = audio_features[audio_features['album'] == 'century_breakdown']['danceability']\n",
    "stats.ttest_ind(ai_dance, cb_dance)"
   ]
  },
  {
   "cell_type": "markdown",
   "id": "429a16d3",
   "metadata": {},
   "source": [
    "The boxplot shows that \"American Idiot\" is generally not very danceable, most songs rating around 0.3-0.4, with two exceptions of a moderately danceable song near 0.55 and a very danceable song just above 0.8. \"21 Century Breakdown\" does not have any outliers like \"American Idiot,\" with all of its songs ranging from below 0.3 to just under 0.6, meaning this album overall has moderate-to-low danceability.  \n",
    "\n",
    "The t-statistic is approximately -0.3, which is close to 0, and therefore means there is likely not a significant difference between the two albums' danceability. The p-value is approximately 0.76, which is greater than 0.05 and therefore means that the result is insignificant. "
   ]
  },
  {
   "cell_type": "markdown",
   "id": "947b2d7f",
   "metadata": {},
   "source": [
    "![](RevRad.jpg)\n",
    "\n",
    "[Image Credit](https://en.wikipedia.org/wiki/File:GreenDayRevRad.jpg)"
   ]
  },
  {
   "cell_type": "markdown",
   "id": "6c792838",
   "metadata": {},
   "source": [
    "In terms of quality of the data, it was pulled directly from Spotify, so with the exception of any mistakes made by Spotify, this data should be reliable and complete. Based on just the energy, valence, and danceability, it appears these two rock operas are quite similar. A next step would be to compare every audio feature of both albums in order to make a more concrete conclusion as to whether Green Day made the same album twice (which would not lesson my own opinion of them as a band because even if the albums are actually very similar, they are both still really good and important to me). I think another next step would be to perform this analysis with all of Green Day's albums to see how Green Day as a band has evolved over their career as artists and musicians. This analysis would be enlightening and also meaningful to me personally as a fan, but also to probably many others since Green Day makes the list of [Best-Selling Music Artists](https://en.wikipedia.org/wiki/List_of_best-selling_music_artists#75_million_to_79_million_records) (they are near the bottom, but they still made the list and that is what matters), so they are definitely a prominent band deserving of attention. "
   ]
  }
 ],
 "metadata": {
  "kernelspec": {
   "display_name": "Python 3 (ipykernel)",
   "language": "python",
   "name": "python3"
  },
  "language_info": {
   "codemirror_mode": {
    "name": "ipython",
    "version": 3
   },
   "file_extension": ".py",
   "mimetype": "text/x-python",
   "name": "python",
   "nbconvert_exporter": "python",
   "pygments_lexer": "ipython3",
   "version": "3.10.4"
  }
 },
 "nbformat": 4,
 "nbformat_minor": 5
}
