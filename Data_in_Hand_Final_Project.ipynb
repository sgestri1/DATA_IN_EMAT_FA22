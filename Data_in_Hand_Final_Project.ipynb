{
 "cells": [
  {
   "cell_type": "markdown",
   "id": "0b880cdd",
   "metadata": {},
   "source": [
    "# Final Project: Data in Hand Checkpoint\n",
    "\n",
    "## Serena Gestring\n",
    "\n",
    "### December 2, 2022"
   ]
  },
  {
   "cell_type": "markdown",
   "id": "622e41b3",
   "metadata": {},
   "source": [
    "I found two playlists on Spotify: [Today's Top Hits](https://open.spotify.com/playlist/37i9dQZF1DXcBWIGoYBM5M) for current popular music and [Baroque Classics](https://open.spotify.com/playlist/4DvteColbVCrs7iIgc4r6x) for popular music from the Baroque period. While a large sample size is best for performing a better, more thorough, and more complete analysis, due to the timeline of this report I decided to only look at 50 songs from each time period. The Top Hits playlist conveniently has 50 songs. The Baroque Classics playlist has 145 songs. I used a random number generator to give me 50 random track numbers so I could validly collect a sample size from that playlist. "
   ]
  },
  {
   "cell_type": "markdown",
   "id": "59c3cf16",
   "metadata": {},
   "source": [
    "First I imported all of the packages I would need to perform this analysis in Jupyter Notebook."
   ]
  },
  {
   "cell_type": "code",
   "execution_count": 1,
   "id": "a3873c54",
   "metadata": {},
   "outputs": [],
   "source": [
    "import pandas as pd\n",
    "import json\n",
    "import requests\n",
    "import base64\n",
    "from matplotlib import pyplot as plt\n",
    "from scipy import stats"
   ]
  },
  {
   "cell_type": "markdown",
   "id": "383c75bd",
   "metadata": {},
   "source": [
    "In order to retrieve the data from my chosen playlists, I needed to access the Spotify API. In order to do that, I needed to provide my developer keys to prove I am authorized to access that information. I uploaded my keys to the Jupyter Notebook anonymously (meaning not visually so it will not be available on the internet).  "
   ]
  },
  {
   "cell_type": "code",
   "execution_count": 2,
   "id": "bfa578fe",
   "metadata": {},
   "outputs": [],
   "source": [
    "keys = pd.read_csv(\"Spotify_Keys_10-18-22.txt\", header = 0, sep = \",\")\n",
    "appid = keys['Client_ID'][0]\n",
    "appsecret = keys['Client_Secret'][0]"
   ]
  },
  {
   "cell_type": "code",
   "execution_count": 3,
   "id": "f9b4a75b",
   "metadata": {},
   "outputs": [],
   "source": [
    "client_cred = base64.b64encode(str(appid + \":\" + appsecret).encode('ascii'))\n",
    "header = {'Authorization': 'Basic {}'.format(client_cred.decode('ascii'))}\n",
    "payload = {'grant_type' : 'client_credentials'}\n",
    "access_token_url = \"https://accounts.spotify.com/api/token\""
   ]
  },
  {
   "cell_type": "code",
   "execution_count": 4,
   "id": "26ab6044",
   "metadata": {},
   "outputs": [],
   "source": [
    "response = requests.post(access_token_url, headers = header, data = payload)\n",
    "session_token = response.json()['access_token']\n",
    "session_header = {'Authorization': 'Bearer {}'.format(response.json()['access_token'])}"
   ]
  },
  {
   "cell_type": "markdown",
   "id": "aee4a521",
   "metadata": {},
   "source": [
    "Once I had gained access to the Spotify API, I used the Get Playlist Items Endpoint to retrieve the track information for the Top Hits playlist. I printed the status code of the request so I knew that it was successful. "
   ]
  },
  {
   "cell_type": "code",
   "execution_count": 5,
   "id": "44155285",
   "metadata": {},
   "outputs": [
    {
     "name": "stdout",
     "output_type": "stream",
     "text": [
      "200\n"
     ]
    }
   ],
   "source": [
    "top_hits_id = '37i9dQZF1DXcBWIGoYBM5M'\n",
    "playlist_endpoint = \"https://api.spotify.com/v1/playlists/{}/tracks\".format(top_hits_id)\n",
    "top_hits_tracks = requests.get(playlist_endpoint, headers = session_header)\n",
    "print(top_hits_tracks.status_code)"
   ]
  },
  {
   "cell_type": "markdown",
   "id": "d89b184f",
   "metadata": {},
   "source": [
    "In order to get the audio features for each track, I needed the track ids. I loaded the data I retrieved into a pandas data frame, then created another data frame for just the 'track' key in order to more easily look at the track ids.  "
   ]
  },
  {
   "cell_type": "code",
   "execution_count": 6,
   "id": "acc5696d",
   "metadata": {},
   "outputs": [],
   "source": [
    "top_hits_dict = json.loads(top_hits_tracks.text)\n",
    "top_hits_df = pd.DataFrame(top_hits_dict['items'])\n",
    "tracks_df = pd.DataFrame(list(top_hits_df['track']))"
   ]
  },
  {
   "cell_type": "markdown",
   "id": "29f13e59",
   "metadata": {},
   "source": [
    "I tried alternative ways to combine the track ids into a string, but the way I had done it in a previous assignment was not working, so I went with this method. While listing out all 50 ids is not the most efficient way of doing this, it is still valid code that does what I need it to do. \n",
    "\n",
    "Once all of the ids were joined as a string, that string was passed to the Track Features Endpoint in order to retrieve the audio features for the tracks. I printed the status code to make sure the request was successful.  "
   ]
  },
  {
   "cell_type": "code",
   "execution_count": 7,
   "id": "d2ae4ac6",
   "metadata": {},
   "outputs": [
    {
     "name": "stdout",
     "output_type": "stream",
     "text": [
      "200\n"
     ]
    }
   ],
   "source": [
    "track_ids1 = ['0V3wPSX9ygBnCm8psDIegu', '3nqQXoyQOWXiESFLlDF1hG', '1xzi1Jcr7mEi9K2RfzLOqS', '4LRPiXqCikLlN15c3yImP7', '0WtM2NBVQNNJLh6scP13H8', '1bDbXMyjaUIooNwFE9wn0N', '73vIOb4Q7YN6HeJTbscRx5', '4uUG5RXrOk84mYEfFvj3cK', '35ovElsgyAtQwYPYnZJECg', '0QHEIqNKsMoOY5urbzN48u']\n",
    "track_ids2 = ['4h9wh7iOZ0GGn8QVp4RAOB', '5ww2BF9slyYgNOk37BlC4u', '5IgjP7X4th6nMNDh4akUHb', '0O6u0VJ46W86TxN9wgyqDj', '5odlY52u43F5BjByhxg7wg', '5jQI2r1RdgtuT8S3iG8zFC', '1qEmFfgcLObUfQm0j1W2CK', '34ZAzO78a5DAVNrYIGWcPm', '38T0tPVZHcPZyhtOcCP7pF', '26hOm7dTtBi0TdpDGl141t']\n",
    "track_ids3 = ['1IHWl5LamUGEuP4ozKQSXZ', '4C6Uex2ILwJi9sZXRdmqXp', '76OGwb5RA9h4FxQPT33ekc', '1RDvyOk4WtPCtoqciJwVn8', '0HqZX76SFLDz2aW8aiqi7G', '3WMj8moIAXJhHsyLaqIIHI', '5CM4UuQ9Gnd6K2YyKGPMoK', '0hquQWY3xvYqN4qtiquniF', '4FyesJzVpA39hbYvcseO2d', '1PckUlxKqWQs3RlWXVBLw3']\n",
    "track_ids4 = ['0mBP9X2gPCuapvpZ7TGDk3', '6G12ZafqofSq7YtrMqUm76', '39JofJHEtg8I4fSyo7Imft', '72yP0DUlWPyH8P7IoxskwN', '2TktkzfozZifbQhXjT6I33', '5unjCay0kUjuej5ebn4nS4', '5HCyWlXZPP0y6Gqq8TgA20', '0T5iIrXA4p5GsubkhuBIKV', '1Ame8XTX6QHY0l0ahqUhgv', '2tTmW7RDtMQtBk7m2rYeSw']\n",
    "track_ids5 = ['59nOXPmaKlBfGMDeOVGrIK', '37vVp2sWHuuIBOSl1NswP6', '0XER3HPMx223xWaAgNKp4Y', '2rmwqU7yzTvzkiaRV53DpT', '1xK59OXxi2TAAAbmZK0kBL', '5ildQOEKmJuWGl2vRkFdYc', '5hnGrTBaEsdukpDF6aZg8a', '5uSFGgIfHMT3osrAd9n9ym', '3LtpKP5abr2qqjunvjlX5i', '0ARKW62l9uWIDYMZTUmJHF']\n",
    "top_hits_track_strings = ','.join(str(x) for x in track_ids1+track_ids2+track_ids3+track_ids4+track_ids5)\n",
    "track_features_endpoint = \"https://api.spotify.com/v1/audio-features?ids={}\".format(top_hits_track_strings)\n",
    "top_hits_features = requests.get(track_features_endpoint, headers = session_header)\n",
    "print(top_hits_features.status_code)"
   ]
  },
  {
   "cell_type": "markdown",
   "id": "65a371e4",
   "metadata": {},
   "source": [
    "Then I loaded in the data to a pandas data frame that only displays the audio features. "
   ]
  },
  {
   "cell_type": "code",
   "execution_count": 8,
   "id": "b63f14c7",
   "metadata": {},
   "outputs": [],
   "source": [
    "top_hits_tracks_dict = json.loads(top_hits_features.text)\n",
    "top_hits_df = pd.DataFrame(top_hits_tracks_dict['audio_features'])"
   ]
  },
  {
   "cell_type": "markdown",
   "id": "0b4e4f9f",
   "metadata": {},
   "source": [
    "I repeated this process with the Baroque Classics playlist. "
   ]
  },
  {
   "cell_type": "code",
   "execution_count": 9,
   "id": "906df582",
   "metadata": {},
   "outputs": [
    {
     "name": "stdout",
     "output_type": "stream",
     "text": [
      "200\n"
     ]
    }
   ],
   "source": [
    "classic_id = '4DvteColbVCrs7iIgc4r6x'\n",
    "playlist_endpoint = \"https://api.spotify.com/v1/playlists/{}/tracks\".format(classic_id)\n",
    "classic_tracks = requests.get(playlist_endpoint, headers = session_header)\n",
    "print(classic_tracks.status_code)"
   ]
  },
  {
   "cell_type": "code",
   "execution_count": 10,
   "id": "cae6aac0",
   "metadata": {},
   "outputs": [],
   "source": [
    "classic_dict = json.loads(classic_tracks.text)\n",
    "classic_df = pd.DataFrame(classic_dict['items'])\n",
    "c_tracks_df = pd.DataFrame(list(classic_df['track']))"
   ]
  },
  {
   "cell_type": "markdown",
   "id": "8cc5a8f0",
   "metadata": {},
   "source": [
    "As mentioned previously, I used a random number generator to help me pick the 50 tracks from the playlist to look at. Because I am only using random tracks from the data frame, I think this same method for creating the string of ids would have to be used regardless of what I do with the Top Hits data frame; but again, it gets me the information I need. "
   ]
  },
  {
   "cell_type": "code",
   "execution_count": 11,
   "id": "160b6255",
   "metadata": {},
   "outputs": [
    {
     "name": "stdout",
     "output_type": "stream",
     "text": [
      "200\n"
     ]
    }
   ],
   "source": [
    "ctrack_ids1 = ['68pcPR8jd2djrHAAKYNsw4', '6srU3wlimYXpxBNoCabQGi', '3i8zRjiO3MNaEkrCsp5Ioh', '5S94PIQplSfBHZXsZowyGY', '6P7Ktg9c8YJbgyCqgukEmr', '5FNxBADhe8SM9Aejtw1AfR', '6OWBcTGl5cVn3xBHKrP3fi', '0ka8jmHCpHOiIJm4dgj6MF', '2f3gjXOD5ZdtyjskiT7vdS', '64ZxBE1ZgK4C0lGljXzDcG']\n",
    "ctrack_ids2 = ['5w7zbR1ZV0Ee7tNFgVROwz', '18JxYMTSFKZlxqdNFrOs1r', '2bahH18wWfRwc073dKyfkT', '5dkKWRisTmeD85NuvNOQHH', '1OjmXxAaUYisbr6wNhyhiP', '267jqHim1E5DzjDfXjM90X', '1SBPeZr2Jy6mwX8X0SE3Cy', '3HEGe9L8HE5r0MQ751BicP', '1Gd0GJF72EJiPFFJYSeDO9', '5bu9A6uphPWg39RC3ZKeku']\n",
    "ctrack_ids3 = ['5gKa9ap9gLwcCqYSZXkB7x', '2XkKjX6CcG7oQSaID54vjD', '6XgeIl03iqC7W89VmexJ5t', '3613rpwb4iF0gyWFwLWeDC', '5dSsnewB866BdN1aOE64Jk', '0mD1a7haZKdX9I0oPywrMb', '3Bp8T6l1Hc5OlM87U9jtB5', '5mHo72ntBoYSBjfiLiBLUM', '5TyDo6Ay5MN5VPlsPTBMl2', '1Q0YVDfALJ8xRXPsP0nlKg']\n",
    "ctrack_ids4 = ['3dcKH2hiRBEARnijIF7rFm', '21rKK1lBgAMGqCShuqUyOf', '6jYl96tQY0lsG1tZtACDZx', '57EbM9h0XQG4qiiFUNgZ4W', '5NCVRnVeZk0nvqimk8D1Pt', '1QPRW7vWciCl9lUViiXJPv', '4JncPOVVxWr8Bjkz32bRFu', '6uTCvFRE00RsW3AUf39Evn', '0KHG44mT1UQBsmkZVYCpxp', '2VFWZbQk5XmTtkCkeOFgVo']\n",
    "ctrack_ids5 = ['3sCGNW7o2uBpzbuUZInsbt', '4wRxPnMfvD1YqbOp9tDO6l', '2NpeOffr2aIpaoXNaXgdsV', '3doapWnT6l06sus63ctRtZ', '2uGkH3hFOydm8C20DoQ0HX', '0TNpryuAtSnygC3hosDGST', '47xdo9qYjAbOIVVBAqom1b', '4KuGb0cwL8KKSySLhS5F3H', '6glOeA1zQhc1plugv0NutP', '5s58LV3A5ytDqGd6Mii2Rp']\n",
    "classic_track_strings = ','.join(str(x) for x in ctrack_ids1+ctrack_ids2+ctrack_ids3+ctrack_ids4+ctrack_ids5)\n",
    "track_features_endpoint = \"https://api.spotify.com/v1/audio-features?ids={}\".format(classic_track_strings)\n",
    "classic_features = requests.get(track_features_endpoint, headers = session_header)\n",
    "print(classic_features.status_code)"
   ]
  },
  {
   "cell_type": "code",
   "execution_count": 12,
   "id": "d1791783",
   "metadata": {},
   "outputs": [],
   "source": [
    "classic_tracks_dict = json.loads(classic_features.text)\n",
    "classic_df = pd.DataFrame(classic_tracks_dict['audio_features'])"
   ]
  },
  {
   "cell_type": "markdown",
   "id": "90e0a91f",
   "metadata": {},
   "source": [
    "Finally, I join the two data frames together using the concat() method. The first five and last five items in the data frame are displayed. "
   ]
  },
  {
   "cell_type": "code",
   "execution_count": 13,
   "id": "ad4ea764",
   "metadata": {},
   "outputs": [
    {
     "data": {
      "text/html": [
       "<div>\n",
       "<style scoped>\n",
       "    .dataframe tbody tr th:only-of-type {\n",
       "        vertical-align: middle;\n",
       "    }\n",
       "\n",
       "    .dataframe tbody tr th {\n",
       "        vertical-align: top;\n",
       "    }\n",
       "\n",
       "    .dataframe thead th {\n",
       "        text-align: right;\n",
       "    }\n",
       "</style>\n",
       "<table border=\"1\" class=\"dataframe\">\n",
       "  <thead>\n",
       "    <tr style=\"text-align: right;\">\n",
       "      <th></th>\n",
       "      <th>danceability</th>\n",
       "      <th>energy</th>\n",
       "      <th>key</th>\n",
       "      <th>loudness</th>\n",
       "      <th>mode</th>\n",
       "      <th>speechiness</th>\n",
       "      <th>acousticness</th>\n",
       "      <th>instrumentalness</th>\n",
       "      <th>liveness</th>\n",
       "      <th>valence</th>\n",
       "      <th>tempo</th>\n",
       "      <th>type</th>\n",
       "      <th>id</th>\n",
       "      <th>uri</th>\n",
       "      <th>track_href</th>\n",
       "      <th>analysis_url</th>\n",
       "      <th>duration_ms</th>\n",
       "      <th>time_signature</th>\n",
       "    </tr>\n",
       "  </thead>\n",
       "  <tbody>\n",
       "    <tr>\n",
       "      <th>0</th>\n",
       "      <td>0.637</td>\n",
       "      <td>0.643</td>\n",
       "      <td>4</td>\n",
       "      <td>-6.571</td>\n",
       "      <td>1</td>\n",
       "      <td>0.0519</td>\n",
       "      <td>0.1300</td>\n",
       "      <td>0.000002</td>\n",
       "      <td>0.1420</td>\n",
       "      <td>0.533</td>\n",
       "      <td>97.008</td>\n",
       "      <td>audio_features</td>\n",
       "      <td>0V3wPSX9ygBnCm8psDIegu</td>\n",
       "      <td>spotify:track:0V3wPSX9ygBnCm8psDIegu</td>\n",
       "      <td>https://api.spotify.com/v1/tracks/0V3wPSX9ygBn...</td>\n",
       "      <td>https://api.spotify.com/v1/audio-analysis/0V3w...</td>\n",
       "      <td>200690</td>\n",
       "      <td>4</td>\n",
       "    </tr>\n",
       "    <tr>\n",
       "      <th>1</th>\n",
       "      <td>0.714</td>\n",
       "      <td>0.472</td>\n",
       "      <td>2</td>\n",
       "      <td>-7.375</td>\n",
       "      <td>1</td>\n",
       "      <td>0.0864</td>\n",
       "      <td>0.0130</td>\n",
       "      <td>0.000005</td>\n",
       "      <td>0.2660</td>\n",
       "      <td>0.238</td>\n",
       "      <td>131.121</td>\n",
       "      <td>audio_features</td>\n",
       "      <td>3nqQXoyQOWXiESFLlDF1hG</td>\n",
       "      <td>spotify:track:3nqQXoyQOWXiESFLlDF1hG</td>\n",
       "      <td>https://api.spotify.com/v1/tracks/3nqQXoyQOWXi...</td>\n",
       "      <td>https://api.spotify.com/v1/audio-analysis/3nqQ...</td>\n",
       "      <td>156943</td>\n",
       "      <td>4</td>\n",
       "    </tr>\n",
       "    <tr>\n",
       "      <th>2</th>\n",
       "      <td>0.780</td>\n",
       "      <td>0.689</td>\n",
       "      <td>7</td>\n",
       "      <td>-5.668</td>\n",
       "      <td>1</td>\n",
       "      <td>0.1410</td>\n",
       "      <td>0.0368</td>\n",
       "      <td>0.000010</td>\n",
       "      <td>0.0698</td>\n",
       "      <td>0.642</td>\n",
       "      <td>115.042</td>\n",
       "      <td>audio_features</td>\n",
       "      <td>1xzi1Jcr7mEi9K2RfzLOqS</td>\n",
       "      <td>spotify:track:1xzi1Jcr7mEi9K2RfzLOqS</td>\n",
       "      <td>https://api.spotify.com/v1/tracks/1xzi1Jcr7mEi...</td>\n",
       "      <td>https://api.spotify.com/v1/audio-analysis/1xzi...</td>\n",
       "      <td>225389</td>\n",
       "      <td>4</td>\n",
       "    </tr>\n",
       "    <tr>\n",
       "      <th>3</th>\n",
       "      <td>0.520</td>\n",
       "      <td>0.731</td>\n",
       "      <td>6</td>\n",
       "      <td>-5.338</td>\n",
       "      <td>0</td>\n",
       "      <td>0.0557</td>\n",
       "      <td>0.3420</td>\n",
       "      <td>0.001010</td>\n",
       "      <td>0.3110</td>\n",
       "      <td>0.662</td>\n",
       "      <td>173.930</td>\n",
       "      <td>audio_features</td>\n",
       "      <td>4LRPiXqCikLlN15c3yImP7</td>\n",
       "      <td>spotify:track:4LRPiXqCikLlN15c3yImP7</td>\n",
       "      <td>https://api.spotify.com/v1/tracks/4LRPiXqCikLl...</td>\n",
       "      <td>https://api.spotify.com/v1/audio-analysis/4LRP...</td>\n",
       "      <td>167303</td>\n",
       "      <td>4</td>\n",
       "    </tr>\n",
       "    <tr>\n",
       "      <th>4</th>\n",
       "      <td>0.801</td>\n",
       "      <td>0.806</td>\n",
       "      <td>11</td>\n",
       "      <td>-5.206</td>\n",
       "      <td>1</td>\n",
       "      <td>0.0381</td>\n",
       "      <td>0.3820</td>\n",
       "      <td>0.000669</td>\n",
       "      <td>0.1140</td>\n",
       "      <td>0.802</td>\n",
       "      <td>106.999</td>\n",
       "      <td>audio_features</td>\n",
       "      <td>0WtM2NBVQNNJLh6scP13H8</td>\n",
       "      <td>spotify:track:0WtM2NBVQNNJLh6scP13H8</td>\n",
       "      <td>https://api.spotify.com/v1/tracks/0WtM2NBVQNNJ...</td>\n",
       "      <td>https://api.spotify.com/v1/audio-analysis/0WtM...</td>\n",
       "      <td>239318</td>\n",
       "      <td>4</td>\n",
       "    </tr>\n",
       "  </tbody>\n",
       "</table>\n",
       "</div>"
      ],
      "text/plain": [
       "   danceability  energy  key  loudness  mode  speechiness  acousticness  \\\n",
       "0         0.637   0.643    4    -6.571     1       0.0519        0.1300   \n",
       "1         0.714   0.472    2    -7.375     1       0.0864        0.0130   \n",
       "2         0.780   0.689    7    -5.668     1       0.1410        0.0368   \n",
       "3         0.520   0.731    6    -5.338     0       0.0557        0.3420   \n",
       "4         0.801   0.806   11    -5.206     1       0.0381        0.3820   \n",
       "\n",
       "   instrumentalness  liveness  valence    tempo            type  \\\n",
       "0          0.000002    0.1420    0.533   97.008  audio_features   \n",
       "1          0.000005    0.2660    0.238  131.121  audio_features   \n",
       "2          0.000010    0.0698    0.642  115.042  audio_features   \n",
       "3          0.001010    0.3110    0.662  173.930  audio_features   \n",
       "4          0.000669    0.1140    0.802  106.999  audio_features   \n",
       "\n",
       "                       id                                   uri  \\\n",
       "0  0V3wPSX9ygBnCm8psDIegu  spotify:track:0V3wPSX9ygBnCm8psDIegu   \n",
       "1  3nqQXoyQOWXiESFLlDF1hG  spotify:track:3nqQXoyQOWXiESFLlDF1hG   \n",
       "2  1xzi1Jcr7mEi9K2RfzLOqS  spotify:track:1xzi1Jcr7mEi9K2RfzLOqS   \n",
       "3  4LRPiXqCikLlN15c3yImP7  spotify:track:4LRPiXqCikLlN15c3yImP7   \n",
       "4  0WtM2NBVQNNJLh6scP13H8  spotify:track:0WtM2NBVQNNJLh6scP13H8   \n",
       "\n",
       "                                          track_href  \\\n",
       "0  https://api.spotify.com/v1/tracks/0V3wPSX9ygBn...   \n",
       "1  https://api.spotify.com/v1/tracks/3nqQXoyQOWXi...   \n",
       "2  https://api.spotify.com/v1/tracks/1xzi1Jcr7mEi...   \n",
       "3  https://api.spotify.com/v1/tracks/4LRPiXqCikLl...   \n",
       "4  https://api.spotify.com/v1/tracks/0WtM2NBVQNNJ...   \n",
       "\n",
       "                                        analysis_url  duration_ms  \\\n",
       "0  https://api.spotify.com/v1/audio-analysis/0V3w...       200690   \n",
       "1  https://api.spotify.com/v1/audio-analysis/3nqQ...       156943   \n",
       "2  https://api.spotify.com/v1/audio-analysis/1xzi...       225389   \n",
       "3  https://api.spotify.com/v1/audio-analysis/4LRP...       167303   \n",
       "4  https://api.spotify.com/v1/audio-analysis/0WtM...       239318   \n",
       "\n",
       "   time_signature  \n",
       "0               4  \n",
       "1               4  \n",
       "2               4  \n",
       "3               4  \n",
       "4               4  "
      ]
     },
     "execution_count": 13,
     "metadata": {},
     "output_type": "execute_result"
    }
   ],
   "source": [
    "final_df = pd.concat([top_hits_df, classic_df])\n",
    "final_df.head()"
   ]
  },
  {
   "cell_type": "code",
   "execution_count": 14,
   "id": "a3754fc9",
   "metadata": {},
   "outputs": [
    {
     "data": {
      "text/html": [
       "<div>\n",
       "<style scoped>\n",
       "    .dataframe tbody tr th:only-of-type {\n",
       "        vertical-align: middle;\n",
       "    }\n",
       "\n",
       "    .dataframe tbody tr th {\n",
       "        vertical-align: top;\n",
       "    }\n",
       "\n",
       "    .dataframe thead th {\n",
       "        text-align: right;\n",
       "    }\n",
       "</style>\n",
       "<table border=\"1\" class=\"dataframe\">\n",
       "  <thead>\n",
       "    <tr style=\"text-align: right;\">\n",
       "      <th></th>\n",
       "      <th>danceability</th>\n",
       "      <th>energy</th>\n",
       "      <th>key</th>\n",
       "      <th>loudness</th>\n",
       "      <th>mode</th>\n",
       "      <th>speechiness</th>\n",
       "      <th>acousticness</th>\n",
       "      <th>instrumentalness</th>\n",
       "      <th>liveness</th>\n",
       "      <th>valence</th>\n",
       "      <th>tempo</th>\n",
       "      <th>type</th>\n",
       "      <th>id</th>\n",
       "      <th>uri</th>\n",
       "      <th>track_href</th>\n",
       "      <th>analysis_url</th>\n",
       "      <th>duration_ms</th>\n",
       "      <th>time_signature</th>\n",
       "    </tr>\n",
       "  </thead>\n",
       "  <tbody>\n",
       "    <tr>\n",
       "      <th>45</th>\n",
       "      <td>0.1030</td>\n",
       "      <td>0.1230</td>\n",
       "      <td>3</td>\n",
       "      <td>-16.964</td>\n",
       "      <td>0</td>\n",
       "      <td>0.0519</td>\n",
       "      <td>0.875</td>\n",
       "      <td>0.000008</td>\n",
       "      <td>0.110</td>\n",
       "      <td>0.0983</td>\n",
       "      <td>48.742</td>\n",
       "      <td>audio_features</td>\n",
       "      <td>0TNpryuAtSnygC3hosDGST</td>\n",
       "      <td>spotify:track:0TNpryuAtSnygC3hosDGST</td>\n",
       "      <td>https://api.spotify.com/v1/tracks/0TNpryuAtSny...</td>\n",
       "      <td>https://api.spotify.com/v1/audio-analysis/0TNp...</td>\n",
       "      <td>154267</td>\n",
       "      <td>4</td>\n",
       "    </tr>\n",
       "    <tr>\n",
       "      <th>46</th>\n",
       "      <td>0.1390</td>\n",
       "      <td>0.1100</td>\n",
       "      <td>0</td>\n",
       "      <td>-16.155</td>\n",
       "      <td>0</td>\n",
       "      <td>0.0362</td>\n",
       "      <td>0.453</td>\n",
       "      <td>0.902000</td>\n",
       "      <td>0.107</td>\n",
       "      <td>0.0377</td>\n",
       "      <td>174.865</td>\n",
       "      <td>audio_features</td>\n",
       "      <td>47xdo9qYjAbOIVVBAqom1b</td>\n",
       "      <td>spotify:track:47xdo9qYjAbOIVVBAqom1b</td>\n",
       "      <td>https://api.spotify.com/v1/tracks/47xdo9qYjAbO...</td>\n",
       "      <td>https://api.spotify.com/v1/audio-analysis/47xd...</td>\n",
       "      <td>300213</td>\n",
       "      <td>3</td>\n",
       "    </tr>\n",
       "    <tr>\n",
       "      <th>47</th>\n",
       "      <td>0.3800</td>\n",
       "      <td>0.0842</td>\n",
       "      <td>4</td>\n",
       "      <td>-30.289</td>\n",
       "      <td>0</td>\n",
       "      <td>0.0402</td>\n",
       "      <td>0.994</td>\n",
       "      <td>0.841000</td>\n",
       "      <td>0.129</td>\n",
       "      <td>0.5320</td>\n",
       "      <td>144.768</td>\n",
       "      <td>audio_features</td>\n",
       "      <td>4KuGb0cwL8KKSySLhS5F3H</td>\n",
       "      <td>spotify:track:4KuGb0cwL8KKSySLhS5F3H</td>\n",
       "      <td>https://api.spotify.com/v1/tracks/4KuGb0cwL8KK...</td>\n",
       "      <td>https://api.spotify.com/v1/audio-analysis/4KuG...</td>\n",
       "      <td>109720</td>\n",
       "      <td>4</td>\n",
       "    </tr>\n",
       "    <tr>\n",
       "      <th>48</th>\n",
       "      <td>0.4390</td>\n",
       "      <td>0.1340</td>\n",
       "      <td>5</td>\n",
       "      <td>-21.685</td>\n",
       "      <td>0</td>\n",
       "      <td>0.0508</td>\n",
       "      <td>0.756</td>\n",
       "      <td>0.280000</td>\n",
       "      <td>0.235</td>\n",
       "      <td>0.3770</td>\n",
       "      <td>154.098</td>\n",
       "      <td>audio_features</td>\n",
       "      <td>6glOeA1zQhc1plugv0NutP</td>\n",
       "      <td>spotify:track:6glOeA1zQhc1plugv0NutP</td>\n",
       "      <td>https://api.spotify.com/v1/tracks/6glOeA1zQhc1...</td>\n",
       "      <td>https://api.spotify.com/v1/audio-analysis/6glO...</td>\n",
       "      <td>209333</td>\n",
       "      <td>4</td>\n",
       "    </tr>\n",
       "    <tr>\n",
       "      <th>49</th>\n",
       "      <td>0.0983</td>\n",
       "      <td>0.0953</td>\n",
       "      <td>2</td>\n",
       "      <td>-22.250</td>\n",
       "      <td>1</td>\n",
       "      <td>0.0503</td>\n",
       "      <td>0.971</td>\n",
       "      <td>0.773000</td>\n",
       "      <td>0.108</td>\n",
       "      <td>0.1140</td>\n",
       "      <td>171.034</td>\n",
       "      <td>audio_features</td>\n",
       "      <td>5s58LV3A5ytDqGd6Mii2Rp</td>\n",
       "      <td>spotify:track:5s58LV3A5ytDqGd6Mii2Rp</td>\n",
       "      <td>https://api.spotify.com/v1/tracks/5s58LV3A5ytD...</td>\n",
       "      <td>https://api.spotify.com/v1/audio-analysis/5s58...</td>\n",
       "      <td>269347</td>\n",
       "      <td>1</td>\n",
       "    </tr>\n",
       "  </tbody>\n",
       "</table>\n",
       "</div>"
      ],
      "text/plain": [
       "    danceability  energy  key  loudness  mode  speechiness  acousticness  \\\n",
       "45        0.1030  0.1230    3   -16.964     0       0.0519         0.875   \n",
       "46        0.1390  0.1100    0   -16.155     0       0.0362         0.453   \n",
       "47        0.3800  0.0842    4   -30.289     0       0.0402         0.994   \n",
       "48        0.4390  0.1340    5   -21.685     0       0.0508         0.756   \n",
       "49        0.0983  0.0953    2   -22.250     1       0.0503         0.971   \n",
       "\n",
       "    instrumentalness  liveness  valence    tempo            type  \\\n",
       "45          0.000008     0.110   0.0983   48.742  audio_features   \n",
       "46          0.902000     0.107   0.0377  174.865  audio_features   \n",
       "47          0.841000     0.129   0.5320  144.768  audio_features   \n",
       "48          0.280000     0.235   0.3770  154.098  audio_features   \n",
       "49          0.773000     0.108   0.1140  171.034  audio_features   \n",
       "\n",
       "                        id                                   uri  \\\n",
       "45  0TNpryuAtSnygC3hosDGST  spotify:track:0TNpryuAtSnygC3hosDGST   \n",
       "46  47xdo9qYjAbOIVVBAqom1b  spotify:track:47xdo9qYjAbOIVVBAqom1b   \n",
       "47  4KuGb0cwL8KKSySLhS5F3H  spotify:track:4KuGb0cwL8KKSySLhS5F3H   \n",
       "48  6glOeA1zQhc1plugv0NutP  spotify:track:6glOeA1zQhc1plugv0NutP   \n",
       "49  5s58LV3A5ytDqGd6Mii2Rp  spotify:track:5s58LV3A5ytDqGd6Mii2Rp   \n",
       "\n",
       "                                           track_href  \\\n",
       "45  https://api.spotify.com/v1/tracks/0TNpryuAtSny...   \n",
       "46  https://api.spotify.com/v1/tracks/47xdo9qYjAbO...   \n",
       "47  https://api.spotify.com/v1/tracks/4KuGb0cwL8KK...   \n",
       "48  https://api.spotify.com/v1/tracks/6glOeA1zQhc1...   \n",
       "49  https://api.spotify.com/v1/tracks/5s58LV3A5ytD...   \n",
       "\n",
       "                                         analysis_url  duration_ms  \\\n",
       "45  https://api.spotify.com/v1/audio-analysis/0TNp...       154267   \n",
       "46  https://api.spotify.com/v1/audio-analysis/47xd...       300213   \n",
       "47  https://api.spotify.com/v1/audio-analysis/4KuG...       109720   \n",
       "48  https://api.spotify.com/v1/audio-analysis/6glO...       209333   \n",
       "49  https://api.spotify.com/v1/audio-analysis/5s58...       269347   \n",
       "\n",
       "    time_signature  \n",
       "45               4  \n",
       "46               3  \n",
       "47               4  \n",
       "48               4  \n",
       "49               1  "
      ]
     },
     "execution_count": 14,
     "metadata": {},
     "output_type": "execute_result"
    }
   ],
   "source": [
    "final_df.tail()"
   ]
  }
 ],
 "metadata": {
  "kernelspec": {
   "display_name": "Python 3 (ipykernel)",
   "language": "python",
   "name": "python3"
  },
  "language_info": {
   "codemirror_mode": {
    "name": "ipython",
    "version": 3
   },
   "file_extension": ".py",
   "mimetype": "text/x-python",
   "name": "python",
   "nbconvert_exporter": "python",
   "pygments_lexer": "ipython3",
   "version": "3.10.4"
  }
 },
 "nbformat": 4,
 "nbformat_minor": 5
}
