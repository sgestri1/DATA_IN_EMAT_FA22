{
 "cells": [
  {
   "cell_type": "markdown",
   "id": "f8b1ba16",
   "metadata": {},
   "source": [
    "# Twitter Text Report\n",
    "\n",
    "## October 25, 2022\n",
    "\n",
    "### By Serena Gestring\n",
    "\n",
    "[Credit for Images](https://www.vangoghgallery.com/painting/)"
   ]
  },
  {
   "cell_type": "markdown",
   "id": "0969557a",
   "metadata": {},
   "source": [
    "![](sunf_resize.jpg)"
   ]
  },
  {
   "cell_type": "markdown",
   "id": "c3f8b889",
   "metadata": {},
   "source": [
    "On Friday October 14, 2022, two climate activists [threw tomato soup on Vincent Van Gogh's \"Sunflowers\" painting](https://www.npr.org/2022/10/14/1129098184/van-gogh-sunflowers-soup-climate-protest-london-gallery) in the London National Gallery to protest fossil fuel extraction. These two individuals belong to the Just Stop Oil activist organization, which has orchestrated a few other art-related protests in the past year. Though the painting itself was unharmed and put back on display, this event has sparked debate on social media regarding the act itself, what it represents, and its effectiveness. Therefore, the driving question I am looking to answer is: \"What is the general sentiment regarding climate activism and valid activism methods after the Van Gogh tomato soup protest at the National Gallery?\" In essence, I want to know how people are reacting to this protest and to the concept of using destruction of art as a form/attempt of activism. \n",
    "\n",
    "I think this is an important conversation to analyze because the awareness and support garnered through activism is essential for actually creating change. If climate activists want to initiate change, then looking at how people react to different methods of protesting/activism will provide insight on what methods are working and what methods are not; which methods are getting people engaged and which are making people turn away. While this particular report is looking at this one specific event, this also starts the broader conversation of what will lead to actual change regarding climate policies and fossil fuel/oil policies that will benefit us and our planet.  \n",
    "\n",
    "To answer this question, I used the Search/Recent endpoint of the Twitter API to collect tweets relevant to this topic so I can learn about the conversation. In order to access the API, I developed a query, which is given below. The main portion of this query exists in two parts: one group of parentheses contains keywords relevant to the National Gallery, and the other group of parentheses contains key words relating to climate activism and Just Stop Oil. These key words are separated by the two parentheses groupings because it creates AND logic. If all of these keywords were in one group of parentheses and each word/phrase separated by OR logic, then I would be more likely to get tweets related to the National Gallery, Van Gogh's paintings, climate activism, and Just Stop Oil separately, but that are not related to my specific event. Because I want to know about this one specific event, I need the AND logic so only tweets that relate to the National Gallery, Van Gogh, and the Just Stop Oil activists from October 14th protest are collected. In addition, the query specifies that only tweets in English are collected, and the query also excludes re-tweets because it would not be useful or insightful to see the same tweet repeated over and over. "
   ]
  },
  {
   "cell_type": "markdown",
   "id": "d88afb37",
   "metadata": {},
   "source": [
    "![](poppies_resize.jpg)"
   ]
  },
  {
   "cell_type": "markdown",
   "id": "259d1ca8",
   "metadata": {},
   "source": [
    "First, I loaded all the necessary software needed for collecting and viewing data. "
   ]
  },
  {
   "cell_type": "code",
   "execution_count": 1,
   "id": "22accf71",
   "metadata": {},
   "outputs": [],
   "source": [
    "import pandas as pd\n",
    "import json\n",
    "import requests\n",
    "import urllib"
   ]
  },
  {
   "cell_type": "markdown",
   "id": "d3e55990",
   "metadata": {},
   "source": [
    "Then I passed my Twitter Developer bearer token into Jupyter Notebook. This token is necessary for accessing the Twitter API because it proves I have permission to retrieve data from Twitter. I save this authorization in the variable titled \"header\" which I then use throughout the rest of the code to prove my access to the Twitter API. I ran the header variable to make sure my bearer token had loaded in correctly, and it had so I cleared the cell so my access token would not be visible online. "
   ]
  },
  {
   "cell_type": "code",
   "execution_count": 2,
   "id": "03012cfc",
   "metadata": {},
   "outputs": [],
   "source": [
    "bearer_token = pd.read_csv(\"b_token_1.txt\", header = 0, sep = '\\t')"
   ]
  },
  {
   "cell_type": "code",
   "execution_count": 3,
   "id": "d6dfc870",
   "metadata": {},
   "outputs": [],
   "source": [
    "header = {'Authorization':'Bearer {}'.format(bearer_token['Bearer_Token'].iloc[0])}"
   ]
  },
  {
   "cell_type": "code",
   "execution_count": null,
   "id": "beeb72fb",
   "metadata": {},
   "outputs": [],
   "source": [
    "header"
   ]
  },
  {
   "cell_type": "markdown",
   "id": "76f4ef69",
   "metadata": {},
   "source": [
    "The endpoint variable is the specific endpoint of the Twitter API I am trying to access, in this case the Search/Recent endpoint. This is where I will collect my data from. "
   ]
  },
  {
   "cell_type": "code",
   "execution_count": 4,
   "id": "fa9218b6",
   "metadata": {},
   "outputs": [],
   "source": [
    "endpoint = 'https://api.twitter.com/2/tweets/search/recent'"
   ]
  },
  {
   "cell_type": "markdown",
   "id": "726e7259",
   "metadata": {},
   "source": [
    "The following code cell contains my query, which is saved as the variable \"query_text,\" which is then parsed through the URLlib software in order for the query to be readable by the API. The variables \"tweet_fields,\" \"user_fields,\" and \"expansions\" are also defined to gather additional data on the tweets that will be collected. For the tweet fields I included author_id, public_metrics, created_at, and in_reply_to_user_id. I included that last one because I thought it would be interesting to look at any actual conversations that occurred between Twitter users regarding this topic. The user field only includes the username. \n",
    "\n",
    "The \"query_url\" variable combines the endpoint and the query to create a URL that will be sent in order to access the API and retrieve data. Notice that the maximum results is set to 100, so that 100 pieces of data (tweets) will be retrieved and viewable at a time. I ran the query_url to make sure all parts of my query were included in the url, and they are. "
   ]
  },
  {
   "cell_type": "code",
   "execution_count": 5,
   "id": "df095df9",
   "metadata": {},
   "outputs": [],
   "source": [
    "query_text = '((@NationalGallery OR national gallery OR van gogh OR tomato soup) (climate activism OR climate activists OR just stop oil)) lang:en -is:retweet'\n",
    "query_encoded = urllib.parse.quote(query_text)\n",
    "tweet_fields = 'author_id,in_reply_to_user_id,public_metrics,created_at'\n",
    "user_fields = 'username'\n",
    "expansions = 'entities.mentions.username'"
   ]
  },
  {
   "cell_type": "code",
   "execution_count": 6,
   "id": "4cac8122",
   "metadata": {},
   "outputs": [],
   "source": [
    "query_url = endpoint + '?query={}&tweet.fields={}&user.fields={}&expansions={}&max_results=100'.format(query_encoded, tweet_fields, user_fields, expansions)"
   ]
  },
  {
   "cell_type": "code",
   "execution_count": 7,
   "id": "495596bc",
   "metadata": {},
   "outputs": [
    {
     "data": {
      "text/plain": [
       "'https://api.twitter.com/2/tweets/search/recent?query=%28%28%40NationalGallery%20OR%20national%20gallery%20OR%20van%20gogh%20OR%20tomato%20soup%29%20%28climate%20activism%20OR%20climate%20activists%20OR%20just%20stop%20oil%29%29%20lang%3Aen%20-is%3Aretweet&tweet.fields=author_id,in_reply_to_user_id,public_metrics,created_at&user.fields=username&expansions=entities.mentions.username&max_results=100'"
      ]
     },
     "execution_count": 7,
     "metadata": {},
     "output_type": "execute_result"
    }
   ],
   "source": [
    "query_url"
   ]
  },
  {
   "cell_type": "markdown",
   "id": "28147610",
   "metadata": {},
   "source": [
    "Using the Requests software, I input my query URL and the header variable (that contains my access token) as parameters in the get() method. This allows me to retrieve the data I requested through the Search/Recent endpoint of the Twitter API. I saved that request as the variable \"response\" because it is the response to my query. \n",
    "\n",
    "In the next code cell I checked the status code of my request. The 200 means my request was valid and that I have data to parse. I then ran my response using .text to view my data to make sure what I received was relevant to my driving question. I had to adjust my query a few times until I began seeing tweets that only related to my question. I have since cleared the cell because it was very long and the data was not in the ideal structure for viewing purposes. "
   ]
  },
  {
   "cell_type": "code",
   "execution_count": 8,
   "id": "1f8a068d",
   "metadata": {},
   "outputs": [],
   "source": [
    "response = requests.get(query_url, headers = header)"
   ]
  },
  {
   "cell_type": "code",
   "execution_count": 9,
   "id": "5c6d55d9",
   "metadata": {},
   "outputs": [
    {
     "data": {
      "text/plain": [
       "<Response [200]>"
      ]
     },
     "execution_count": 9,
     "metadata": {},
     "output_type": "execute_result"
    }
   ],
   "source": [
    "response"
   ]
  },
  {
   "cell_type": "code",
   "execution_count": 10,
   "id": "0426b8ef",
   "metadata": {},
   "outputs": [],
   "source": [
    "response_dict = json.loads(response.text)"
   ]
  },
  {
   "cell_type": "code",
   "execution_count": null,
   "id": "3ac4d9af",
   "metadata": {},
   "outputs": [],
   "source": [
    "response.text"
   ]
  },
  {
   "cell_type": "markdown",
   "id": "deb52885",
   "metadata": {},
   "source": [
    "![](starry_resize.jpg)"
   ]
  },
  {
   "cell_type": "markdown",
   "id": "818d7f0a",
   "metadata": {},
   "source": [
    "While the maximum results only allows me to see 100 tweets at a time, there are actually multiples pages of results that can be viewed. In the code cell below, I have created a function that would generate as many of the results pages as I wanted to see. First, \"response_list\" is an empty list in which to put the pages of results as they are generated, and \"next_token\" is an empty string in which to put the next tokens contained in the meta data of each page of results. Next comes a for loop, which contains a conditional. It essentially states that if the iteration is greater than 0 (0 being the first page of results), then pass the query plus the value of the next token, and for anything else just pass the query (this would only happen for the first page of results because there would be no next token to include). Under the for loop is the \"this_response\" variable, which uses the get() method to retrieve the data collected by the function, which is then loaded as a json dictionary, which is then added to the \"response_list\" list. Finally, the \"response_list\" is returned at the end of the function. \n",
    "\n",
    "For this report, I wanted a total of 3 pages of results, for a total of 300 tweets. Therefore, I passed the query URL (\"query_url\") into the query parameter, passed the number 3 for the num_pages parameter (to get three pages of results), and passed the header variable (that contains my bearer token and therefore my access to the API) to the headers parameter. I then created the \"my_responses\" variable to contain all 300 tweets and their accompanying data. I ran \"my_responses\" to verify one more time that the data is still relevant to my driving question, and then cleared the cell. "
   ]
  },
  {
   "cell_type": "code",
   "execution_count": 11,
   "id": "7d498336",
   "metadata": {},
   "outputs": [],
   "source": [
    "def twt_recent_search (query, num_pages, headers):\n",
    "    response_list = []\n",
    "    next_token = ''\n",
    "    \n",
    "    for i in range(0, num_pages):\n",
    "        if i > 0:\n",
    "            this_query = query + \"&next_token={}\".format(next_token)\n",
    "        else:\n",
    "            this_query = query\n",
    "        \n",
    "        this_response = requests.get(this_query, headers = header)\n",
    "        this_response_dict = json.loads(this_response.text)\n",
    "        response_list.append(this_response_dict)\n",
    "        next_token = this_response_dict['meta']['next_token']\n",
    "    \n",
    "    return response_list"
   ]
  },
  {
   "cell_type": "code",
   "execution_count": 12,
   "id": "0adefd63",
   "metadata": {},
   "outputs": [],
   "source": [
    "my_responses = twt_recent_search(query_url, 3, header)"
   ]
  },
  {
   "cell_type": "code",
   "execution_count": null,
   "id": "b2abadb2",
   "metadata": {},
   "outputs": [],
   "source": [
    "my_responses"
   ]
  },
  {
   "cell_type": "markdown",
   "id": "608963ca",
   "metadata": {},
   "source": [
    "Then I turned the data received from the API into a dataframe using the pandas software. "
   ]
  },
  {
   "cell_type": "code",
   "execution_count": 13,
   "id": "c5e04a72",
   "metadata": {},
   "outputs": [],
   "source": [
    "results_1 = pd.DataFrame.from_records(my_responses)"
   ]
  },
  {
   "cell_type": "code",
   "execution_count": 14,
   "id": "3ec95d6c",
   "metadata": {},
   "outputs": [],
   "source": [
    "data_list = list(results_1['data'])"
   ]
  },
  {
   "cell_type": "code",
   "execution_count": 15,
   "id": "6ffbd8ad",
   "metadata": {},
   "outputs": [],
   "source": [
    "data_list_of_dfs = [pd.DataFrame(x) for x in data_list]"
   ]
  },
  {
   "cell_type": "markdown",
   "id": "ed011b56",
   "metadata": {},
   "source": [
    "The concat() method allows me to create one dataframe out of the three pages of results. "
   ]
  },
  {
   "cell_type": "code",
   "execution_count": 16,
   "id": "8fca54e0",
   "metadata": {},
   "outputs": [],
   "source": [
    "data_df = pd.concat(data_list_of_dfs)"
   ]
  },
  {
   "cell_type": "code",
   "execution_count": null,
   "id": "907fce88",
   "metadata": {},
   "outputs": [],
   "source": [
    "data_df"
   ]
  },
  {
   "cell_type": "markdown",
   "id": "a17cb4fc",
   "metadata": {},
   "source": [
    "Becaues the public_metrics column has multiple data points, I created its own dataframe so I could merge that with the larger dataframe using the join() method. This makes the public_metrics more easily readable to viewers. "
   ]
  },
  {
   "cell_type": "code",
   "execution_count": 17,
   "id": "665dffc1",
   "metadata": {},
   "outputs": [],
   "source": [
    "public_metrics_df = pd.DataFrame(list(data_df['public_metrics']))"
   ]
  },
  {
   "cell_type": "code",
   "execution_count": 18,
   "id": "4d2ba686",
   "metadata": {},
   "outputs": [],
   "source": [
    "final_df = data_df.join(public_metrics_df)"
   ]
  },
  {
   "cell_type": "markdown",
   "id": "ed9c1e1b",
   "metadata": {},
   "source": [
    "![](painting_resize.jpg)"
   ]
  },
  {
   "cell_type": "markdown",
   "id": "ee2c2ed9",
   "metadata": {},
   "source": [
    "Now the two dataframes are joined together. However, the public_metrics column is still included. Therefore, I used the drop() method to delete that column from the dataframe. Also, this final dataframe included an 'entities' column, which had the user_fields information. I was able to create a separate data frame for just the entities information and join it to the larger one, but was unable to figure out how to pull the 'mentions' information from within that. However, this information is also stored in the 'includes' key (different from the 'data' key). Therefore, I had to create a separate dataframe in order to view that information (called \"users_df\"). Because of this second dataframe, I decided to drop the \"entities\" column as well. The first five and last five rows of both dataframes are viewable below.  "
   ]
  },
  {
   "cell_type": "code",
   "execution_count": 19,
   "id": "823306e5",
   "metadata": {
    "scrolled": true
   },
   "outputs": [
    {
     "data": {
      "text/html": [
       "<div>\n",
       "<style scoped>\n",
       "    .dataframe tbody tr th:only-of-type {\n",
       "        vertical-align: middle;\n",
       "    }\n",
       "\n",
       "    .dataframe tbody tr th {\n",
       "        vertical-align: top;\n",
       "    }\n",
       "\n",
       "    .dataframe thead th {\n",
       "        text-align: right;\n",
       "    }\n",
       "</style>\n",
       "<table border=\"1\" class=\"dataframe\">\n",
       "  <thead>\n",
       "    <tr style=\"text-align: right;\">\n",
       "      <th></th>\n",
       "      <th>created_at</th>\n",
       "      <th>text</th>\n",
       "      <th>id</th>\n",
       "      <th>author_id</th>\n",
       "      <th>edit_history_tweet_ids</th>\n",
       "      <th>in_reply_to_user_id</th>\n",
       "      <th>retweet_count</th>\n",
       "      <th>reply_count</th>\n",
       "      <th>like_count</th>\n",
       "      <th>quote_count</th>\n",
       "    </tr>\n",
       "  </thead>\n",
       "  <tbody>\n",
       "    <tr>\n",
       "      <th>0</th>\n",
       "      <td>2022-10-25T19:09:58.000Z</td>\n",
       "      <td>That’s all we need, a jumped up idiot encourag...</td>\n",
       "      <td>1584985637555503116</td>\n",
       "      <td>91120555</td>\n",
       "      <td>[1584985637555503116]</td>\n",
       "      <td>NaN</td>\n",
       "      <td>0</td>\n",
       "      <td>0</td>\n",
       "      <td>0</td>\n",
       "      <td>0</td>\n",
       "    </tr>\n",
       "    <tr>\n",
       "      <th>0</th>\n",
       "      <td>2022-10-25T08:18:48.000Z</td>\n",
       "      <td>@PhreekHyperbole just stop oil splashed tomato...</td>\n",
       "      <td>1584821766580756482</td>\n",
       "      <td>123600006</td>\n",
       "      <td>[1584821766580756482]</td>\n",
       "      <td>1407621371195129859</td>\n",
       "      <td>0</td>\n",
       "      <td>0</td>\n",
       "      <td>0</td>\n",
       "      <td>0</td>\n",
       "    </tr>\n",
       "    <tr>\n",
       "      <th>0</th>\n",
       "      <td>2022-10-24T21:17:02.000Z</td>\n",
       "      <td>The Just Stop Oil protest shocked the world, b...</td>\n",
       "      <td>1584655226858086402</td>\n",
       "      <td>800414768024518656</td>\n",
       "      <td>[1584655226858086402]</td>\n",
       "      <td>NaN</td>\n",
       "      <td>0</td>\n",
       "      <td>0</td>\n",
       "      <td>0</td>\n",
       "      <td>0</td>\n",
       "    </tr>\n",
       "    <tr>\n",
       "      <th>1</th>\n",
       "      <td>2022-10-25T19:06:17.000Z</td>\n",
       "      <td>not to agree with some of Just Stop Oil's tact...</td>\n",
       "      <td>1584984710018539520</td>\n",
       "      <td>1415934677978861569</td>\n",
       "      <td>[1584984710018539520]</td>\n",
       "      <td>NaN</td>\n",
       "      <td>0</td>\n",
       "      <td>0</td>\n",
       "      <td>4</td>\n",
       "      <td>0</td>\n",
       "    </tr>\n",
       "    <tr>\n",
       "      <th>1</th>\n",
       "      <td>2022-10-25T08:17:39.000Z</td>\n",
       "      <td>morning all, my thoughts regarding the climate...</td>\n",
       "      <td>1584821476578177024</td>\n",
       "      <td>1643523890</td>\n",
       "      <td>[1584821476578177024]</td>\n",
       "      <td>NaN</td>\n",
       "      <td>0</td>\n",
       "      <td>0</td>\n",
       "      <td>4</td>\n",
       "      <td>0</td>\n",
       "    </tr>\n",
       "  </tbody>\n",
       "</table>\n",
       "</div>"
      ],
      "text/plain": [
       "                 created_at  \\\n",
       "0  2022-10-25T19:09:58.000Z   \n",
       "0  2022-10-25T08:18:48.000Z   \n",
       "0  2022-10-24T21:17:02.000Z   \n",
       "1  2022-10-25T19:06:17.000Z   \n",
       "1  2022-10-25T08:17:39.000Z   \n",
       "\n",
       "                                                text                   id  \\\n",
       "0  That’s all we need, a jumped up idiot encourag...  1584985637555503116   \n",
       "0  @PhreekHyperbole just stop oil splashed tomato...  1584821766580756482   \n",
       "0  The Just Stop Oil protest shocked the world, b...  1584655226858086402   \n",
       "1  not to agree with some of Just Stop Oil's tact...  1584984710018539520   \n",
       "1  morning all, my thoughts regarding the climate...  1584821476578177024   \n",
       "\n",
       "             author_id edit_history_tweet_ids  in_reply_to_user_id  \\\n",
       "0             91120555  [1584985637555503116]                  NaN   \n",
       "0            123600006  [1584821766580756482]  1407621371195129859   \n",
       "0   800414768024518656  [1584655226858086402]                  NaN   \n",
       "1  1415934677978861569  [1584984710018539520]                  NaN   \n",
       "1           1643523890  [1584821476578177024]                  NaN   \n",
       "\n",
       "   retweet_count  reply_count  like_count  quote_count  \n",
       "0              0            0           0            0  \n",
       "0              0            0           0            0  \n",
       "0              0            0           0            0  \n",
       "1              0            0           4            0  \n",
       "1              0            0           4            0  "
      ]
     },
     "execution_count": 19,
     "metadata": {},
     "output_type": "execute_result"
    }
   ],
   "source": [
    "final_df.drop('public_metrics', axis = 1).drop('entities', axis = 1).head()"
   ]
  },
  {
   "cell_type": "code",
   "execution_count": 20,
   "id": "d1cbc6d1",
   "metadata": {},
   "outputs": [
    {
     "data": {
      "text/html": [
       "<div>\n",
       "<style scoped>\n",
       "    .dataframe tbody tr th:only-of-type {\n",
       "        vertical-align: middle;\n",
       "    }\n",
       "\n",
       "    .dataframe tbody tr th {\n",
       "        vertical-align: top;\n",
       "    }\n",
       "\n",
       "    .dataframe thead th {\n",
       "        text-align: right;\n",
       "    }\n",
       "</style>\n",
       "<table border=\"1\" class=\"dataframe\">\n",
       "  <thead>\n",
       "    <tr style=\"text-align: right;\">\n",
       "      <th></th>\n",
       "      <th>created_at</th>\n",
       "      <th>text</th>\n",
       "      <th>id</th>\n",
       "      <th>author_id</th>\n",
       "      <th>edit_history_tweet_ids</th>\n",
       "      <th>in_reply_to_user_id</th>\n",
       "      <th>entities</th>\n",
       "      <th>retweet_count</th>\n",
       "      <th>reply_count</th>\n",
       "      <th>like_count</th>\n",
       "      <th>quote_count</th>\n",
       "    </tr>\n",
       "  </thead>\n",
       "  <tbody>\n",
       "    <tr>\n",
       "      <th>98</th>\n",
       "      <td>2022-10-25T08:31:25.000Z</td>\n",
       "      <td>Just Stop Oil protests: Bob Geldof reveals why...</td>\n",
       "      <td>1584824940280569856</td>\n",
       "      <td>1430815514704633859</td>\n",
       "      <td>[1584824940280569856]</td>\n",
       "      <td>NaN</td>\n",
       "      <td>NaN</td>\n",
       "      <td>0</td>\n",
       "      <td>0</td>\n",
       "      <td>0</td>\n",
       "      <td>0</td>\n",
       "    </tr>\n",
       "    <tr>\n",
       "      <th>98</th>\n",
       "      <td>2022-10-24T21:24:04.000Z</td>\n",
       "      <td>@Sluchey1 Climate activists vandalised a portr...</td>\n",
       "      <td>1584656999362736128</td>\n",
       "      <td>1552365153571807233</td>\n",
       "      <td>[1584656999362736128]</td>\n",
       "      <td>1443955431752310785</td>\n",
       "      <td>{'mentions': [{'start': 0, 'end': 9, 'username...</td>\n",
       "      <td>0</td>\n",
       "      <td>0</td>\n",
       "      <td>0</td>\n",
       "      <td>0</td>\n",
       "    </tr>\n",
       "    <tr>\n",
       "      <th>98</th>\n",
       "      <td>2022-10-24T15:22:49.000Z</td>\n",
       "      <td>First the idiots vandalizing van Gogh’s Sunflo...</td>\n",
       "      <td>1584566087709966336</td>\n",
       "      <td>918302785011093504</td>\n",
       "      <td>[1584566087709966336]</td>\n",
       "      <td>NaN</td>\n",
       "      <td>NaN</td>\n",
       "      <td>0</td>\n",
       "      <td>0</td>\n",
       "      <td>0</td>\n",
       "      <td>0</td>\n",
       "    </tr>\n",
       "    <tr>\n",
       "      <th>99</th>\n",
       "      <td>2022-10-25T08:20:31.000Z</td>\n",
       "      <td>Just Stop Oil protests: Bob Geldof reveals why...</td>\n",
       "      <td>1584822200997392387</td>\n",
       "      <td>1514210880602443776</td>\n",
       "      <td>[1584822200997392387]</td>\n",
       "      <td>NaN</td>\n",
       "      <td>NaN</td>\n",
       "      <td>0</td>\n",
       "      <td>0</td>\n",
       "      <td>0</td>\n",
       "      <td>0</td>\n",
       "    </tr>\n",
       "    <tr>\n",
       "      <th>99</th>\n",
       "      <td>2022-10-24T21:23:00.000Z</td>\n",
       "      <td>The protest at Potsdam’s Barberini museum foll...</td>\n",
       "      <td>1584656728855117829</td>\n",
       "      <td>33860739</td>\n",
       "      <td>[1584656728855117829]</td>\n",
       "      <td>NaN</td>\n",
       "      <td>NaN</td>\n",
       "      <td>0</td>\n",
       "      <td>0</td>\n",
       "      <td>0</td>\n",
       "      <td>0</td>\n",
       "    </tr>\n",
       "  </tbody>\n",
       "</table>\n",
       "</div>"
      ],
      "text/plain": [
       "                  created_at  \\\n",
       "98  2022-10-25T08:31:25.000Z   \n",
       "98  2022-10-24T21:24:04.000Z   \n",
       "98  2022-10-24T15:22:49.000Z   \n",
       "99  2022-10-25T08:20:31.000Z   \n",
       "99  2022-10-24T21:23:00.000Z   \n",
       "\n",
       "                                                 text                   id  \\\n",
       "98  Just Stop Oil protests: Bob Geldof reveals why...  1584824940280569856   \n",
       "98  @Sluchey1 Climate activists vandalised a portr...  1584656999362736128   \n",
       "98  First the idiots vandalizing van Gogh’s Sunflo...  1584566087709966336   \n",
       "99  Just Stop Oil protests: Bob Geldof reveals why...  1584822200997392387   \n",
       "99  The protest at Potsdam’s Barberini museum foll...  1584656728855117829   \n",
       "\n",
       "              author_id edit_history_tweet_ids  in_reply_to_user_id  \\\n",
       "98  1430815514704633859  [1584824940280569856]                  NaN   \n",
       "98  1552365153571807233  [1584656999362736128]  1443955431752310785   \n",
       "98   918302785011093504  [1584566087709966336]                  NaN   \n",
       "99  1514210880602443776  [1584822200997392387]                  NaN   \n",
       "99             33860739  [1584656728855117829]                  NaN   \n",
       "\n",
       "                                             entities  retweet_count  \\\n",
       "98                                                NaN              0   \n",
       "98  {'mentions': [{'start': 0, 'end': 9, 'username...              0   \n",
       "98                                                NaN              0   \n",
       "99                                                NaN              0   \n",
       "99                                                NaN              0   \n",
       "\n",
       "    reply_count  like_count  quote_count  \n",
       "98            0           0            0  \n",
       "98            0           0            0  \n",
       "98            0           0            0  \n",
       "99            0           0            0  \n",
       "99            0           0            0  "
      ]
     },
     "execution_count": 20,
     "metadata": {},
     "output_type": "execute_result"
    }
   ],
   "source": [
    "final_df.drop('public_metrics', axis = 1).tail()"
   ]
  },
  {
   "cell_type": "code",
   "execution_count": 21,
   "id": "4965dfbb",
   "metadata": {},
   "outputs": [
    {
     "data": {
      "text/plain": [
       "dict_keys(['users'])"
      ]
     },
     "execution_count": 21,
     "metadata": {},
     "output_type": "execute_result"
    }
   ],
   "source": [
    "response_dict['includes'].keys()"
   ]
  },
  {
   "cell_type": "code",
   "execution_count": 22,
   "id": "2193f0e0",
   "metadata": {},
   "outputs": [],
   "source": [
    "users_df = pd.DataFrame(response_dict['includes']['users'])"
   ]
  },
  {
   "cell_type": "code",
   "execution_count": 23,
   "id": "160d0c68",
   "metadata": {},
   "outputs": [
    {
     "data": {
      "text/html": [
       "<div>\n",
       "<style scoped>\n",
       "    .dataframe tbody tr th:only-of-type {\n",
       "        vertical-align: middle;\n",
       "    }\n",
       "\n",
       "    .dataframe tbody tr th {\n",
       "        vertical-align: top;\n",
       "    }\n",
       "\n",
       "    .dataframe thead th {\n",
       "        text-align: right;\n",
       "    }\n",
       "</style>\n",
       "<table border=\"1\" class=\"dataframe\">\n",
       "  <thead>\n",
       "    <tr style=\"text-align: right;\">\n",
       "      <th></th>\n",
       "      <th>id</th>\n",
       "      <th>name</th>\n",
       "      <th>username</th>\n",
       "    </tr>\n",
       "  </thead>\n",
       "  <tbody>\n",
       "    <tr>\n",
       "      <th>0</th>\n",
       "      <td>1148702707378769921</td>\n",
       "      <td>Climate Emergency Fund</td>\n",
       "      <td>ClimateEFund</td>\n",
       "    </tr>\n",
       "    <tr>\n",
       "      <th>1</th>\n",
       "      <td>2347049341</td>\n",
       "      <td>Vox</td>\n",
       "      <td>voxdotcom</td>\n",
       "    </tr>\n",
       "    <tr>\n",
       "      <th>2</th>\n",
       "      <td>10228272</td>\n",
       "      <td>YouTube</td>\n",
       "      <td>YouTube</td>\n",
       "    </tr>\n",
       "    <tr>\n",
       "      <th>3</th>\n",
       "      <td>1472840303564537858</td>\n",
       "      <td>FightingAnne1</td>\n",
       "      <td>FightingAnne1</td>\n",
       "    </tr>\n",
       "    <tr>\n",
       "      <th>4</th>\n",
       "      <td>14420097</td>\n",
       "      <td>Aja Romano</td>\n",
       "      <td>ajaromano</td>\n",
       "    </tr>\n",
       "  </tbody>\n",
       "</table>\n",
       "</div>"
      ],
      "text/plain": [
       "                    id                    name       username\n",
       "0  1148702707378769921  Climate Emergency Fund   ClimateEFund\n",
       "1           2347049341                     Vox      voxdotcom\n",
       "2             10228272                 YouTube        YouTube\n",
       "3  1472840303564537858           FightingAnne1  FightingAnne1\n",
       "4             14420097              Aja Romano      ajaromano"
      ]
     },
     "execution_count": 23,
     "metadata": {},
     "output_type": "execute_result"
    }
   ],
   "source": [
    "users_df.head()"
   ]
  },
  {
   "cell_type": "code",
   "execution_count": 24,
   "id": "1e025ac5",
   "metadata": {},
   "outputs": [
    {
     "data": {
      "text/html": [
       "<div>\n",
       "<style scoped>\n",
       "    .dataframe tbody tr th:only-of-type {\n",
       "        vertical-align: middle;\n",
       "    }\n",
       "\n",
       "    .dataframe tbody tr th {\n",
       "        vertical-align: top;\n",
       "    }\n",
       "\n",
       "    .dataframe thead th {\n",
       "        text-align: right;\n",
       "    }\n",
       "</style>\n",
       "<table border=\"1\" class=\"dataframe\">\n",
       "  <thead>\n",
       "    <tr style=\"text-align: right;\">\n",
       "      <th></th>\n",
       "      <th>id</th>\n",
       "      <th>name</th>\n",
       "      <th>username</th>\n",
       "    </tr>\n",
       "  </thead>\n",
       "  <tbody>\n",
       "    <tr>\n",
       "      <th>32</th>\n",
       "      <td>442832665</td>\n",
       "      <td>Tanya Gold</td>\n",
       "      <td>TanyaGold1</td>\n",
       "    </tr>\n",
       "    <tr>\n",
       "      <th>33</th>\n",
       "      <td>95064543</td>\n",
       "      <td>ABC The Drum</td>\n",
       "      <td>ABCthedrum</td>\n",
       "    </tr>\n",
       "    <tr>\n",
       "      <th>34</th>\n",
       "      <td>3250619743</td>\n",
       "      <td>Humra Laeeq</td>\n",
       "      <td>humralq</td>\n",
       "    </tr>\n",
       "    <tr>\n",
       "      <th>35</th>\n",
       "      <td>612473</td>\n",
       "      <td>BBC News (UK)</td>\n",
       "      <td>BBCNews</td>\n",
       "    </tr>\n",
       "    <tr>\n",
       "      <th>36</th>\n",
       "      <td>1168968080690749441</td>\n",
       "      <td>Rishi Sunak</td>\n",
       "      <td>RishiSunak</td>\n",
       "    </tr>\n",
       "  </tbody>\n",
       "</table>\n",
       "</div>"
      ],
      "text/plain": [
       "                     id           name    username\n",
       "32            442832665     Tanya Gold  TanyaGold1\n",
       "33             95064543   ABC The Drum  ABCthedrum\n",
       "34           3250619743    Humra Laeeq     humralq\n",
       "35               612473  BBC News (UK)     BBCNews\n",
       "36  1168968080690749441    Rishi Sunak  RishiSunak"
      ]
     },
     "execution_count": 24,
     "metadata": {},
     "output_type": "execute_result"
    }
   ],
   "source": [
    "users_df.tail()"
   ]
  },
  {
   "cell_type": "markdown",
   "id": "7ffad6d0",
   "metadata": {},
   "source": [
    "Finally, I saved this dataframe as a csv file, so I can review the data at a later time. "
   ]
  },
  {
   "cell_type": "code",
   "execution_count": 25,
   "id": "ace59cfe",
   "metadata": {},
   "outputs": [],
   "source": [
    "final_df.to_csv(r'C:\\Users\\Serena\\EMAT22110_FA22\\twt_data.csv')"
   ]
  },
  {
   "cell_type": "markdown",
   "id": "4be3e403",
   "metadata": {},
   "source": [
    "![](irises_resize.jpg)"
   ]
  },
  {
   "cell_type": "markdown",
   "id": "85de8070",
   "metadata": {},
   "source": [
    "The query given above was used to gather 300 tweets relating to the climate protest that involved throwing tomato soup on Van Gogh's \"Sunflowers\" painting on October 14th, 2022. Upon scanning the data from all 300 tweets, the vast majority of the tweets are indeed about this topic. The data provides many different viewpoints regarding whether the two climate activists are in the right or wrong, if the protests done by Just Stop Oil are effective/valid or not, if a painting is more important than the health of the planet, etc. However, there are a few tweets throughout the data that do not appear to be about this specific event, but rather about the broader idea of climate activism or other related topics, which could be useful in providing more context for the greater picture of activism, fossil fuels, and the climate crisis, but not necessarily useful for answering the driving question of this report. Therefore, this data (and the query that gathered the data) is not the strongest it could be, and that improvements to the keywords or structure of the query could definitely be implemented. With that being said, I do believe this data is an adequate starting point for examining online conversation about this event.  \n",
    "\n",
    "There are other limitations to consider with this data. To reiterate, the query accessed the Search/Recent endpoint of the Twitter API in order to collect data. A limitation of using this endpoint is that one can only access tweets posted no farther back than a week previous (in other words, only tweets from the last seven days and no later). Therefore, it is very possible to miss a large portion of the tweets relevant to the conversation, and to not get the full story or all of the perspectives and thoughts from individuals around the world. An alternative approach would be to use the Search/All endpoint, which would collect *all* tweets matching the search query as far back as the year 2006. This would allow one to collect and view all tweets relating to this event since the moment the event occurred on October 14th, 2022, providing the complete data set and therefore the complete story behind this conversation (on Twitter specifically). It should be noted the Search/All endpoint is only available to Twitter Developers with Academic Research access, hence why it was not used for this report. \n",
    "\n",
    "A potential next step from a Twitter standpoint would be to include more data about the users themselves, such as location and bio information (if provided). This additional information could shed some light on what types of people are making certain kinds of opinions, or in other words, if there are any trends of opinions on this topic in relation to age, ethnicity, nationality, etc. A broader next step would be to scrape data from other social media sites regarding this topic in order to gain a larger insight into general online conversation, since individuals use a wide variety of platforms other than Twitter to communicate. This cumulative data from multiple sources (assuming the data is reliable) would provide the best understanding of the global sentiment behind climate activism using the starting point of throwing tomato soup at Van Gogh's \"Sunflowers\" to protest fossil fuels."
   ]
  },
  {
   "cell_type": "markdown",
   "id": "5a173d83",
   "metadata": {},
   "source": [
    "![](Vincent_van_Gogh_sunflowers.jpg)"
   ]
  }
 ],
 "metadata": {
  "kernelspec": {
   "display_name": "Python 3 (ipykernel)",
   "language": "python",
   "name": "python3"
  },
  "language_info": {
   "codemirror_mode": {
    "name": "ipython",
    "version": 3
   },
   "file_extension": ".py",
   "mimetype": "text/x-python",
   "name": "python",
   "nbconvert_exporter": "python",
   "pygments_lexer": "ipython3",
   "version": "3.10.4"
  }
 },
 "nbformat": 4,
 "nbformat_minor": 5
}
